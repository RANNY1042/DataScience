{
 "cells": [
  {
   "cell_type": "code",
   "execution_count": 1,
   "metadata": {},
   "outputs": [
    {
     "name": "stdout",
     "output_type": "stream",
     "text": [
      "a는 음의 정수입니다.\n"
     ]
    }
   ],
   "source": [
    "a=-10\n",
    "if(a>0):\n",
    "    print(\"a는 양의 정수입니다.\")\n",
    "elif(a==0):\n",
    "    print(\"a는 0입니다.\")\n",
    "else : \n",
    "    print(\"a는 음의 정수입니다.\")"
   ]
  },
  {
   "cell_type": "code",
   "execution_count": 2,
   "metadata": {},
   "outputs": [],
   "source": [
    "a=int(input(\"첫번째 수를 입력하세요.\"))\n",
    "b=int(input(\"두번째 수를 입력하세요.\"))\n",
    "c=int(input(\"세번째 수를 입력하세요.\"))"
   ]
  },
  {
   "cell_type": "code",
   "execution_count": 3,
   "metadata": {},
   "outputs": [],
   "source": [
    "if(a>=b):\n",
    "    big=a\n",
    "else : \n",
    "    big=b"
   ]
  },
  {
   "cell_type": "code",
   "execution_count": 5,
   "metadata": {},
   "outputs": [
    {
     "name": "stdout",
     "output_type": "stream",
     "text": [
      "가장 큰 수는 30입니다.\n"
     ]
    }
   ],
   "source": [
    "if(c>=big):\n",
    "    print(\"가장 큰 수는 %d입니다.\" %c)\n",
    "else : \n",
    "    print(\"가장 큰 수는 %d입니다.\" %big)"
   ]
  },
  {
   "cell_type": "code",
   "execution_count": 6,
   "metadata": {},
   "outputs": [
    {
     "name": "stdout",
     "output_type": "stream",
     "text": [
      "python programming\n",
      "python programming\n",
      "python programming\n",
      "python programming\n",
      "python programming\n"
     ]
    }
   ],
   "source": [
    "for i in range(5):\n",
    "    print(\"python programming\")"
   ]
  },
  {
   "cell_type": "code",
   "execution_count": 7,
   "metadata": {},
   "outputs": [
    {
     "name": "stdout",
     "output_type": "stream",
     "text": [
      "i의 값: 1, 합계: 1\n",
      "i의 값: 2, 합계: 3\n",
      "i의 값: 3, 합계: 6\n",
      "i의 값: 4, 합계: 10\n",
      "i의 값: 5, 합계: 15\n"
     ]
    }
   ],
   "source": [
    "sum=0\n",
    "\n",
    "for i in range(1,6):\n",
    "    sum=sum+i\n",
    "    print(\"i의 값: %d, 합계: %d\" %(i,sum))"
   ]
  },
  {
   "cell_type": "code",
   "execution_count": 9,
   "metadata": {},
   "outputs": [
    {
     "name": "stdout",
     "output_type": "stream",
     "text": [
      "1 3 5 7 9 "
     ]
    }
   ],
   "source": [
    "for i in range(1,10,2) :\n",
    "    print(i, end=' ')"
   ]
  },
  {
   "cell_type": "code",
   "execution_count": 10,
   "metadata": {},
   "outputs": [
    {
     "name": "stdout",
     "output_type": "stream",
     "text": [
      "p\n",
      "y\n",
      "t\n",
      "h\n",
      "o\n",
      "n\n"
     ]
    }
   ],
   "source": [
    "for x in \"python\" : \n",
    "    print(x)"
   ]
  },
  {
   "cell_type": "code",
   "execution_count": 11,
   "metadata": {},
   "outputs": [
    {
     "name": "stdout",
     "output_type": "stream",
     "text": [
      "2*1=2 2*2=4 2*3=6 2*4=8 2*5=10 2*6=12 2*7=14 2*8=16 2*9=18 \n",
      "3*1=3 3*2=6 3*3=9 3*4=12 3*5=15 3*6=18 3*7=21 3*8=24 3*9=27 \n",
      "4*1=4 4*2=8 4*3=12 4*4=16 4*5=20 4*6=24 4*7=28 4*8=32 4*9=36 \n",
      "5*1=5 5*2=10 5*3=15 5*4=20 5*5=25 5*6=30 5*7=35 5*8=40 5*9=45 \n",
      "6*1=6 6*2=12 6*3=18 6*4=24 6*5=30 6*6=36 6*7=42 6*8=48 6*9=54 \n",
      "7*1=7 7*2=14 7*3=21 7*4=28 7*5=35 7*6=42 7*7=49 7*8=56 7*9=63 \n",
      "8*1=8 8*2=16 8*3=24 8*4=32 8*5=40 8*6=48 8*7=56 8*8=64 8*9=72 \n",
      "9*1=9 9*2=18 9*3=27 9*4=36 9*5=45 9*6=54 9*7=63 9*8=72 9*9=81 \n"
     ]
    }
   ],
   "source": [
    "for i in range(2,10):\n",
    "    for j in range(1,10):\n",
    "        print(\"%d*%d=%d\" %(i,j,i*j), end=' ')\n",
    "    print()"
   ]
  },
  {
   "cell_type": "code",
   "execution_count": 12,
   "metadata": {},
   "outputs": [
    {
     "name": "stdout",
     "output_type": "stream",
     "text": [
      "python programming\n",
      "python programming\n",
      "python programming\n",
      "python programming\n",
      "python programming\n"
     ]
    }
   ],
   "source": [
    "i=1\n",
    "while i<=5 :\n",
    "    print(\"python programming\")\n",
    "    i=i+1"
   ]
  },
  {
   "cell_type": "code",
   "execution_count": 13,
   "metadata": {},
   "outputs": [
    {
     "name": "stdout",
     "output_type": "stream",
     "text": [
      "i의 값 : 1, 합계: 1\n",
      "i의 값 : 2, 합계: 2\n",
      "i의 값 : 3, 합계: 3\n",
      "i의 값 : 4, 합계: 4\n",
      "i의 값 : 5, 합계: 5\n"
     ]
    }
   ],
   "source": [
    "sum=0\n",
    "i=1\n",
    "while i<=5:\n",
    "    sum=sum+1\n",
    "    print(\"i의 값 : %d, 합계: %d\" %(i,sum))\n",
    "    i=i+1"
   ]
  },
  {
   "cell_type": "code",
   "execution_count": 14,
   "metadata": {},
   "outputs": [
    {
     "name": "stdout",
     "output_type": "stream",
     "text": [
      "p y t h o n   p r o g r a m m i n g "
     ]
    }
   ],
   "source": [
    "i=0\n",
    "s=\"python programming\"\n",
    "\n",
    "while i<=(len(s)-1):\n",
    "    print(s[i], end=' ')\n",
    "    i = i+1"
   ]
  },
  {
   "cell_type": "code",
   "execution_count": 15,
   "metadata": {},
   "outputs": [
    {
     "name": "stdout",
     "output_type": "stream",
     "text": [
      "0 1 2 3 4 5 6 7 8 9 "
     ]
    }
   ],
   "source": [
    "i=0\n",
    "while i<100:\n",
    "    print(i, end=' ')\n",
    "    i=i+1\n",
    "    if i==10:\n",
    "        break"
   ]
  },
  {
   "cell_type": "code",
   "execution_count": 19,
   "metadata": {},
   "outputs": [
    {
     "name": "stdout",
     "output_type": "stream",
     "text": [
      "10\n",
      "72.3\n",
      "평균은 72.300000입니다.\n"
     ]
    }
   ],
   "source": [
    "a=[70,60,55,95,80,70,85,47,83,78]\n",
    "sum=0\n",
    "avg=0\n",
    "\n",
    "for x in a :\n",
    "    sum=sum+x\n",
    "\n",
    "avg=sum/len(a)\n",
    "print(len(a))\n",
    "print(avg)\n",
    "print(\"평균은 %f입니다.\" %avg)"
   ]
  },
  {
   "cell_type": "code",
   "execution_count": 20,
   "metadata": {},
   "outputs": [
    {
     "name": "stdout",
     "output_type": "stream",
     "text": [
      "평균은 72.300000입니다.\n"
     ]
    }
   ],
   "source": [
    "a=[70,60,55,95,80,70,85,47,83,78]\n",
    "sum=0\n",
    "avg=0\n",
    "\n",
    "i=0\n",
    "while i<10 :\n",
    "    sum=sum+a[i]\n",
    "    i=i+1\n",
    "\n",
    "avg=sum/10\n",
    "print(\"평균은 %f입니다.\" %avg)"
   ]
  },
  {
   "cell_type": "code",
   "execution_count": 21,
   "metadata": {},
   "outputs": [],
   "source": [
    "a=[]\n",
    "b=[1,2,3]\n",
    "c=['사과','오렌지','딸기','포도','바나나']\n",
    "d=[1,2,'python','programming']"
   ]
  },
  {
   "cell_type": "code",
   "execution_count": 22,
   "metadata": {},
   "outputs": [
    {
     "name": "stdout",
     "output_type": "stream",
     "text": [
      "[1, 2, 3, 4, 5]\n",
      "1 5 4\n"
     ]
    }
   ],
   "source": [
    "a=[1,2,3,4,5]\n",
    "print(a)\n",
    "print(a[0],a[-1],a[0]+a[2])"
   ]
  },
  {
   "cell_type": "code",
   "execution_count": 23,
   "metadata": {},
   "outputs": [
    {
     "name": "stdout",
     "output_type": "stream",
     "text": [
      "[1, 2, 3, 4, 5, 6]\n",
      "[1, 2, 3, 1, 2, 3, 1, 2, 3]\n"
     ]
    }
   ],
   "source": [
    "a=[1,2,3]\n",
    "b=[4,5,6]\n",
    "\n",
    "print(a+b)\n",
    "print(a*3)"
   ]
  },
  {
   "cell_type": "code",
   "execution_count": 24,
   "metadata": {},
   "outputs": [
    {
     "name": "stdout",
     "output_type": "stream",
     "text": [
      "['a', 'b', 'c', 'd', 'd']\n",
      "['a', 'aa', 'b', 'c', 'd', 'd']\n"
     ]
    }
   ],
   "source": [
    "a=['a','b','c','d']\n",
    "a.append('d')\n",
    "print(a)\n",
    "\n",
    "a.insert(1,'aa')\n",
    "print(a)"
   ]
  },
  {
   "cell_type": "code",
   "execution_count": 25,
   "metadata": {},
   "outputs": [
    {
     "name": "stdout",
     "output_type": "stream",
     "text": [
      "['a', 'b', 'f']\n"
     ]
    }
   ],
   "source": [
    "a=['a','b','c']\n",
    "a[2]='f'\n",
    "print(a)"
   ]
  },
  {
   "cell_type": "code",
   "execution_count": 26,
   "metadata": {},
   "outputs": [
    {
     "name": "stdout",
     "output_type": "stream",
     "text": [
      "['a', 'c']\n"
     ]
    }
   ],
   "source": [
    "a=['a','b','c']\n",
    "del a[1]\n",
    "print(a)"
   ]
  },
  {
   "cell_type": "code",
   "execution_count": 31,
   "metadata": {},
   "outputs": [
    {
     "name": "stdout",
     "output_type": "stream",
     "text": [
      "['e', 'd', 'c', 'b', 'a']\n",
      "3\n",
      "['a', 'b', 'c', 'd', 'e']\n",
      "1\n"
     ]
    }
   ],
   "source": [
    "a=['a','b','c','d','e']\n",
    "a.reverse()\n",
    "print(a)\n",
    "print(a.index('b'))\n",
    "a.sort()\n",
    "print(a)\n",
    "print(a.index('b'))"
   ]
  },
  {
   "cell_type": "code",
   "execution_count": 32,
   "metadata": {},
   "outputs": [
    {
     "name": "stdout",
     "output_type": "stream",
     "text": [
      "2\n",
      "[10, 20, 40, 30, 20, 50]\n"
     ]
    }
   ],
   "source": [
    "a=[10,20,30,40,30,20,50]\n",
    "print(a.count(30))\n",
    "a.remove(30)\n",
    "print(a)"
   ]
  },
  {
   "cell_type": "code",
   "execution_count": 33,
   "metadata": {},
   "outputs": [
    {
     "name": "stdout",
     "output_type": "stream",
     "text": [
      "a b c "
     ]
    }
   ],
   "source": [
    "a=['a','b','c']\n",
    "for x in a:\n",
    "    print(x, end=' ')"
   ]
  },
  {
   "cell_type": "code",
   "execution_count": 34,
   "metadata": {},
   "outputs": [
    {
     "name": "stdout",
     "output_type": "stream",
     "text": [
      "a b c "
     ]
    }
   ],
   "source": [
    "a=['a','b','c']\n",
    "i=0\n",
    "while i <len(a) : \n",
    "    print(a[i], end=' ')\n",
    "    i=i+1"
   ]
  },
  {
   "cell_type": "code",
   "execution_count": 35,
   "metadata": {},
   "outputs": [
    {
     "name": "stdout",
     "output_type": "stream",
     "text": [
      "70\n",
      "75\n",
      "100\n"
     ]
    }
   ],
   "source": [
    "scores = [[70,75],[80,90],[100,90],[95,85],[82,92]]\n",
    "\n",
    "print(scores[0][0])\n",
    "print(scores[0][1])\n",
    "print(scores[2][0])"
   ]
  },
  {
   "cell_type": "code",
   "execution_count": 36,
   "metadata": {},
   "outputs": [
    {
     "name": "stdout",
     "output_type": "stream",
     "text": [
      "a\n",
      "('c', 'd', 'e')\n",
      "('a', 'b', 'c', 'd', 'e', 'a', 'b', 'c', 'd', 'e')\n",
      "5\n"
     ]
    }
   ],
   "source": [
    "t=('a','b','c','d','e')\n",
    "print(t[0])\n",
    "print(t[2:])\n",
    "print(t*2)\n",
    "print(len(t))"
   ]
  },
  {
   "cell_type": "code",
   "execution_count": 37,
   "metadata": {},
   "outputs": [
    {
     "name": "stdout",
     "output_type": "stream",
     "text": [
      "a\n",
      "python\n"
     ]
    }
   ],
   "source": [
    "dic1 = {1:'a',2:'b',3:'c'}\n",
    "dic2={'name':'python', 'age':'30','job':'programming'}\n",
    "\n",
    "print(dic1[1])\n",
    "print(dic2['name'])"
   ]
  },
  {
   "cell_type": "code",
   "execution_count": 38,
   "metadata": {},
   "outputs": [
    {
     "name": "stdout",
     "output_type": "stream",
     "text": [
      "{1: 'a', 2: 'b', 3: 'c', 5: 'f'}\n",
      "{'name': 'python', 'age': '30', 'job': 'programming', 'contact': 'pthon.org'}\n"
     ]
    }
   ],
   "source": [
    "dic1={1:'a',2:'b',3:'c'}\n",
    "dic2={'name':'python','age':'30','job':'programming'}\n",
    "\n",
    "dic1[5]='f'\n",
    "print(dic1)\n",
    "\n",
    "dic2['contact'] ='pthon.org'\n",
    "print(dic2)"
   ]
  },
  {
   "cell_type": "code",
   "execution_count": 40,
   "metadata": {},
   "outputs": [
    {
     "name": "stdout",
     "output_type": "stream",
     "text": [
      "dict_keys([1, 2, 3])\n",
      "dict_values(['python', '30', 'programming'])\n",
      "dict_items([(1, 'a'), (2, 'b'), (3, 'c')])\n",
      "30\n"
     ]
    }
   ],
   "source": [
    "dic1={1:'a',2:'b',3:'c'}\n",
    "dic2={'name':'python','age':'30','job':'programming'}\n",
    "\n",
    "print(dic1.keys())\n",
    "print(dic2.values())\n",
    "print(dic1.items())\n",
    "\n",
    "if 'age' in dic2:\n",
    "    print(dic2.get('age'))"
   ]
  },
  {
   "cell_type": "code",
   "execution_count": 42,
   "metadata": {},
   "outputs": [
    {
     "name": "stdout",
     "output_type": "stream",
     "text": [
      "아이디와 비밀번호가 맞습니다.\n"
     ]
    }
   ],
   "source": [
    "id_pass = {'cuk':'12ab', 'python':'11aa', 'bigdata':'cc21'}\n",
    "\n",
    "id=input(\"사용자 아이디를 입력하세요 : \")\n",
    "password = input(\"비밀번호를 입력하세요: \")\n",
    "\n",
    "if id in id_pass : \n",
    "    if password == id_pass.get(id):\n",
    "        print(\"아이디와 비밀번호가 맞습니다.\")\n",
    "    else : \n",
    "        print(\"비밀번호가 틀립니다.\")\n",
    "\n",
    "else : \n",
    "    print(\"아이디가 존재하지 않습니다.\")"
   ]
  },
  {
   "cell_type": "code",
   "execution_count": 43,
   "metadata": {},
   "outputs": [],
   "source": [
    "def sum(x,y):\n",
    "    return x+y"
   ]
  },
  {
   "cell_type": "code",
   "execution_count": 44,
   "metadata": {},
   "outputs": [
    {
     "name": "stdout",
     "output_type": "stream",
     "text": [
      "20은 짝수입니다.\n"
     ]
    }
   ],
   "source": [
    "def f1(x) : \n",
    "    if x%2 ==0 :\n",
    "         return (\"짝수\")\n",
    "    else :\n",
    "        return (\"홀수\")\n",
    "\n",
    "x=int(input(\"숫자를 입력하세요 : \"))\n",
    "print(\"%d은 %s입니다.\" %(x,f1(x)))"
   ]
  },
  {
   "cell_type": "code",
   "execution_count": 45,
   "metadata": {},
   "outputs": [
    {
     "name": "stdout",
     "output_type": "stream",
     "text": [
      "두 수의 곱은 20입니다. \n"
     ]
    }
   ],
   "source": [
    "def f2(x,y):\n",
    "    mul = x*y\n",
    "    return mul\n",
    "\n",
    "x=int(input(\"첫번째 숫자를 입력하세요 : \"))\n",
    "y=int(input(\"두번째 숫자를 입력하세요 : \"))\n",
    "print(\"두 수의 곱은 %d입니다. \" %f2(x,y))"
   ]
  },
  {
   "cell_type": "code",
   "execution_count": 1,
   "metadata": {},
   "outputs": [
    {
     "name": "stdout",
     "output_type": "stream",
     "text": [
      "[1 2 3 4 5]\n",
      "[[1 2 3]\n",
      " [4 5 6]]\n"
     ]
    }
   ],
   "source": [
    "import numpy as np\n",
    "\n",
    "ar1=np.array([1,2,3,4,5])\n",
    "ar2=np.array([[1,2,3],[4,5,6]])\n",
    "print(ar1)\n",
    "print(ar2)"
   ]
  },
  {
   "cell_type": "code",
   "execution_count": 2,
   "metadata": {},
   "outputs": [
    {
     "name": "stdout",
     "output_type": "stream",
     "text": [
      "[ 1.79028175 -0.69843535 -0.04641824]\n",
      "[[-0.08806205 -0.14201827  0.6257613 ]\n",
      " [-2.66604645 -0.99003553  0.39390278]]\n"
     ]
    }
   ],
   "source": [
    "import numpy as np\n",
    "\n",
    "ar3 = np.random.randn(3)\n",
    "ar4= np.random.randn(2,3)\n",
    "\n",
    "print(ar3)\n",
    "print(ar4)"
   ]
  },
  {
   "cell_type": "code",
   "execution_count": 6,
   "metadata": {},
   "outputs": [
    {
     "name": "stdout",
     "output_type": "stream",
     "text": [
      "[0. 0. 0. 0. 0.]\n",
      "[[1. 1. 1.]\n",
      " [1. 1. 1.]]\n"
     ]
    }
   ],
   "source": [
    "import numpy as np\n",
    "\n",
    "ar5=np.zeros(5)\n",
    "ar6=np.ones((2,3))\n",
    "\n",
    "print(ar5)\n",
    "print(ar6)"
   ]
  },
  {
   "cell_type": "code",
   "execution_count": 9,
   "metadata": {},
   "outputs": [
    {
     "name": "stdout",
     "output_type": "stream",
     "text": [
      "18\n",
      "[ 20  30  40  50  60  70  80  90 100 110 120 130 140 150 160 170 180 190]\n",
      "[[ 20  30  40  50  60  70]\n",
      " [ 80  90 100 110 120 130]\n",
      " [140 150 160 170 180 190]]\n"
     ]
    }
   ],
   "source": [
    "import numpy as np\n",
    "\n",
    "ar7=np.arange(20,200,10)\n",
    "ar8 = ar7.reshape(3,6)\n",
    "print(len(ar7))\n",
    "print(ar7)\n",
    "print(ar8)"
   ]
  },
  {
   "cell_type": "code",
   "execution_count": 10,
   "metadata": {},
   "outputs": [
    {
     "name": "stdout",
     "output_type": "stream",
     "text": [
      "[ 1  2  3  4  5  6  7  8  9 10 11 12 13 14 15 16 17 18 19 20]\n",
      "2\n"
     ]
    }
   ],
   "source": [
    "import numpy as np\n",
    "\n",
    "ar1=np.arange(1,21,1)\n",
    "print(ar1)\n",
    "print(ar1[1])"
   ]
  },
  {
   "cell_type": "code",
   "execution_count": 13,
   "metadata": {},
   "outputs": [
    {
     "data": {
      "text/plain": [
       "array([[ 1,  2,  3,  4,  5,  6,  7,  8,  9, 10],\n",
       "       [11, 12, 13, 14, 15, 16, 17, 18, 19, 20]])"
      ]
     },
     "execution_count": 13,
     "metadata": {},
     "output_type": "execute_result"
    }
   ],
   "source": [
    "ar2=ar1.reshape(2,10)\n",
    "ar2"
   ]
  },
  {
   "cell_type": "code",
   "execution_count": 15,
   "metadata": {},
   "outputs": [
    {
     "data": {
      "text/plain": [
       "array([[  1,   2,   3,   4,   5,   6,   7,   8,   9,  10],\n",
       "       [ 11, 100,  13,  14,  15,  16,  17,  18,  19,  20]])"
      ]
     },
     "execution_count": 15,
     "metadata": {},
     "output_type": "execute_result"
    }
   ],
   "source": [
    "ar2[1][1]=100\n",
    "ar2"
   ]
  },
  {
   "cell_type": "code",
   "execution_count": 16,
   "metadata": {},
   "outputs": [
    {
     "name": "stdout",
     "output_type": "stream",
     "text": [
      "11 100 13\n"
     ]
    }
   ],
   "source": [
    "print(ar2[1][0],ar2[1][1],ar2[1][2])"
   ]
  },
  {
   "cell_type": "code",
   "execution_count": 4,
   "metadata": {},
   "outputs": [
    {
     "name": "stdout",
     "output_type": "stream",
     "text": [
      "[ 1  2  3  4  5  6  7  8  9 10]\n",
      "[ 1  2  3  4  5  6  7  8  9 10]\n",
      "[ 4  5  6  7  8  9 10 11 12 13] \n",
      " [ 2  4  6  8 10 12 14 16 18 20]\n"
     ]
    }
   ],
   "source": [
    "import numpy as np\n",
    "\n",
    "ar1=np.arange(1,11,1)\n",
    "print(ar1)\n",
    "ar2=ar1+3\n",
    "ar3=ar1*2\n",
    "print(ar1)\n",
    "print(ar2,\"\\n\",ar3)"
   ]
  },
  {
   "cell_type": "code",
   "execution_count": 5,
   "metadata": {},
   "outputs": [
    {
     "name": "stdout",
     "output_type": "stream",
     "text": [
      "[[ 5  7  9]\n",
      " [-7 -6 19]\n",
      " [ 6  9 11]]\n",
      "53\n",
      "5.888888888888889\n",
      "19\n",
      "-7\n",
      "[ 6  9 19]\n",
      "[ 9 19 11]\n"
     ]
    }
   ],
   "source": [
    "ar1 = np.array([[5,7,9],[-7,-6,19],[6,9,11]])\n",
    "print(ar1)\n",
    "print(ar1.sum())\n",
    "print(ar1.mean())\n",
    "print(ar1.max())\n",
    "print(ar1.min())\n",
    "print(ar1.max(axis=0))\n",
    "print(ar1.max(axis=1))"
   ]
  },
  {
   "cell_type": "code",
   "execution_count": 2,
   "metadata": {},
   "outputs": [
    {
     "name": "stdout",
     "output_type": "stream",
     "text": [
      "[[ 5  7  9]\n",
      " [-7 -6 19]\n",
      " [ 6  9 11]]\n",
      "53\n",
      "5.888888888888889\n",
      "19\n",
      "-7\n",
      "[ 6  9 19]\n",
      "[ 9 19 11]\n"
     ]
    }
   ],
   "source": [
    "import numpy as np\n",
    "\n",
    "ar1=np.array([[5,7,9],[-7,-6,19],[6,9,11]])\n",
    "print(ar1)\n",
    "print(ar1.sum())\n",
    "print(ar1.mean())\n",
    "print(ar1.max())\n",
    "print(ar1.min())\n",
    "print(ar1.max(axis=0))\n",
    "print(ar1.max(axis=1))"
   ]
  },
  {
   "cell_type": "code",
   "execution_count": 3,
   "metadata": {},
   "outputs": [
    {
     "name": "stdout",
     "output_type": "stream",
     "text": [
      "[[ True  True  True]\n",
      " [False False  True]\n",
      " [ True  True  True]]\n",
      "2\n"
     ]
    }
   ],
   "source": [
    "ar1= np.array([[5,7,9],[-7,-6,19],[6,9,11]])\n",
    "print(ar1>0)\n",
    "m_count=(ar1<0).sum()\n",
    "print(m_count)"
   ]
  },
  {
   "cell_type": "code",
   "execution_count": 4,
   "metadata": {},
   "outputs": [
    {
     "name": "stdout",
     "output_type": "stream",
     "text": [
      "[[ 5  7  9]\n",
      " [ 0  0 19]\n",
      " [ 6  9 11]]\n"
     ]
    }
   ],
   "source": [
    "ar2=np.where(ar1<0, 0, ar1)\n",
    "print(ar2)"
   ]
  },
  {
   "cell_type": "code",
   "execution_count": 6,
   "metadata": {},
   "outputs": [
    {
     "name": "stdout",
     "output_type": "stream",
     "text": [
      "[[ 5  7  9]\n",
      " [-3 -6 19]\n",
      " [ 6  4 11]]\n"
     ]
    }
   ],
   "source": [
    "ar1= np.array([[5,7,9],[-3,-6,19],[6,4,11]])\n",
    "print(ar1)"
   ]
  },
  {
   "cell_type": "code",
   "execution_count": 7,
   "metadata": {},
   "outputs": [
    {
     "name": "stdout",
     "output_type": "stream",
     "text": [
      "[[-3 -6  9]\n",
      " [ 5  4 11]\n",
      " [ 6  7 19]]\n"
     ]
    }
   ],
   "source": [
    "ar1.sort(0)\n",
    "print(ar1)"
   ]
  },
  {
   "cell_type": "code",
   "execution_count": 8,
   "metadata": {},
   "outputs": [
    {
     "name": "stdout",
     "output_type": "stream",
     "text": [
      "[[-6 -3  9]\n",
      " [ 4  5 11]\n",
      " [ 6  7 19]]\n"
     ]
    }
   ],
   "source": [
    "ar1.sort(1)\n",
    "print(ar1)"
   ]
  },
  {
   "cell_type": "code",
   "execution_count": 9,
   "metadata": {},
   "outputs": [
    {
     "name": "stdout",
     "output_type": "stream",
     "text": [
      "0    10\n",
      "1    30\n",
      "2    20\n",
      "3    40\n",
      "4    50\n",
      "dtype: int64\n"
     ]
    }
   ],
   "source": [
    "import pandas as pd\n",
    "\n",
    "sr1= pd.Series([10,30,20,40,50])\n",
    "print(sr1)"
   ]
  },
  {
   "cell_type": "code",
   "execution_count": 10,
   "metadata": {},
   "outputs": [
    {
     "name": "stdout",
     "output_type": "stream",
     "text": [
      "[10 30 20 40 60]\n",
      "RangeIndex(start=0, stop=5, step=1)\n",
      "20\n"
     ]
    }
   ],
   "source": [
    "sr1= pd.Series([10,30,20,40,60])\n",
    "print(sr1.values)\n",
    "print(sr1.index)\n",
    "print(sr1[2])"
   ]
  },
  {
   "cell_type": "code",
   "execution_count": 3,
   "metadata": {},
   "outputs": [],
   "source": [
    "import pandas as pd"
   ]
  },
  {
   "cell_type": "code",
   "execution_count": 2,
   "metadata": {},
   "outputs": [
    {
     "name": "stdout",
     "output_type": "stream",
     "text": [
      "30\n",
      "30\n"
     ]
    },
    {
     "name": "stderr",
     "output_type": "stream",
     "text": [
      "C:\\Users\\user\\AppData\\Local\\Temp\\ipykernel_18372\\3557089853.py:3: FutureWarning: Series.__getitem__ treating keys as positions is deprecated. In a future version, integer keys will always be treated as labels (consistent with DataFrame behavior). To access a value by position, use `ser.iloc[pos]`\n",
      "  print(sr1[1])\n"
     ]
    }
   ],
   "source": [
    "import pandas as pd\n",
    "sr1=pd.Series([10,30,20,40,60],index=['a','b','c','d','e'])\n",
    "print(sr1[1])\n",
    "print(sr1['b'])"
   ]
  },
  {
   "cell_type": "code",
   "execution_count": 10,
   "metadata": {},
   "outputs": [
    {
     "name": "stdout",
     "output_type": "stream",
     "text": [
      "b    30\n",
      "c    20\n",
      "dtype: int64\n",
      "a    10\n",
      "c    20\n",
      "dtype: int64\n"
     ]
    },
    {
     "name": "stderr",
     "output_type": "stream",
     "text": [
      "C:\\Users\\user\\AppData\\Local\\Temp\\ipykernel_18372\\4018647605.py:2: FutureWarning: Series.__getitem__ treating keys as positions is deprecated. In a future version, integer keys will always be treated as labels (consistent with DataFrame behavior). To access a value by position, use `ser.iloc[pos]`\n",
      "  print(sr1[[1,2]])\n"
     ]
    }
   ],
   "source": [
    "sr1=pd.Series([10,30,20,40,60], index=['a','b','c','d','e'])\n",
    "print(sr1[[1,2]])\n",
    "print(sr1[['a','c']])"
   ]
  },
  {
   "cell_type": "code",
   "execution_count": 11,
   "metadata": {},
   "outputs": [
    {
     "name": "stdout",
     "output_type": "stream",
     "text": [
      "b    30\n",
      "c    20\n",
      "d    40\n",
      "dtype: int64\n",
      "b    30\n",
      "c    20\n",
      "d    40\n",
      "dtype: int64\n"
     ]
    }
   ],
   "source": [
    "sr1=pd.Series([10,30,20,40,60],index=['a','b','c','d','e'])\n",
    "print(sr1[1:4])\n",
    "print(sr1['b':'d'])"
   ]
  },
  {
   "cell_type": "code",
   "execution_count": 12,
   "metadata": {},
   "outputs": [
    {
     "name": "stdout",
     "output_type": "stream",
     "text": [
      "    0   1   2\n",
      "0  10  20  30\n",
      "1  40  50  60\n"
     ]
    }
   ],
   "source": [
    "import pandas as pd\n",
    "\n",
    "df1=pd.DataFrame([[10,20,30],[40,50,60]])\n",
    "print(df1)"
   ]
  },
  {
   "cell_type": "code",
   "execution_count": 13,
   "metadata": {},
   "outputs": [
    {
     "name": "stdout",
     "output_type": "stream",
     "text": [
      "  fruit  price  qty\n",
      "0    사과    100   10\n",
      "1     배    200   25\n",
      "2     감    150   30\n",
      "3     귤     50   20\n",
      "4   바나나    200   15\n"
     ]
    }
   ],
   "source": [
    "import pandas as pd\n",
    "\n",
    "dic1={'fruit':['사과','배','감','귤','바나나'],\n",
    "      'price':[100,200,150,50,200],\n",
    "      'qty':[10,25,30,20,15]}\n",
    "df1=pd.DataFrame(dic1)\n",
    "print(df1)"
   ]
  },
  {
   "cell_type": "code",
   "execution_count": 14,
   "metadata": {},
   "outputs": [
    {
     "name": "stdout",
     "output_type": "stream",
     "text": [
      "  fruit  price  qty\n",
      "a    사과    100   10\n",
      "b     배    200   25\n",
      "c     감    150   30\n",
      "d     귤     50   20\n",
      "e   바나나    200   15\n"
     ]
    }
   ],
   "source": [
    "df1=pd.DataFrame(dic1,index=['a','b','c','d','e'])\n",
    "print(df1)"
   ]
  },
  {
   "cell_type": "code",
   "execution_count": 19,
   "metadata": {},
   "outputs": [
    {
     "name": "stdout",
     "output_type": "stream",
     "text": [
      "   fruit   가격  수량\n",
      "01    사과  100  10\n",
      "02     배  200  25\n",
      "03     감  150  30\n",
      "04     귤   50  20\n",
      "05   바나나  200  15\n"
     ]
    }
   ],
   "source": [
    "df1.rename(columns = {'fuit':'과일','price':'가격','qty':'수량'},inplace=True)\n",
    "df1.rename(index = {'a':'01','b':'02','c':'03','d':'04','e':'05'},inplace=True)\n",
    "print(df1)"
   ]
  },
  {
   "cell_type": "code",
   "execution_count": 20,
   "metadata": {},
   "outputs": [
    {
     "data": {
      "text/html": [
       "<div>\n",
       "<style scoped>\n",
       "    .dataframe tbody tr th:only-of-type {\n",
       "        vertical-align: middle;\n",
       "    }\n",
       "\n",
       "    .dataframe tbody tr th {\n",
       "        vertical-align: top;\n",
       "    }\n",
       "\n",
       "    .dataframe thead th {\n",
       "        text-align: right;\n",
       "    }\n",
       "</style>\n",
       "<table border=\"1\" class=\"dataframe\">\n",
       "  <thead>\n",
       "    <tr style=\"text-align: right;\">\n",
       "      <th></th>\n",
       "      <th>학번</th>\n",
       "      <th>중간</th>\n",
       "      <th>기말</th>\n",
       "      <th>리포트</th>\n",
       "      <th>퀴즈</th>\n",
       "    </tr>\n",
       "  </thead>\n",
       "  <tbody>\n",
       "    <tr>\n",
       "      <th>0</th>\n",
       "      <td>S01</td>\n",
       "      <td>90</td>\n",
       "      <td>95</td>\n",
       "      <td>20</td>\n",
       "      <td>20</td>\n",
       "    </tr>\n",
       "    <tr>\n",
       "      <th>1</th>\n",
       "      <td>S02</td>\n",
       "      <td>82</td>\n",
       "      <td>83</td>\n",
       "      <td>18</td>\n",
       "      <td>18</td>\n",
       "    </tr>\n",
       "    <tr>\n",
       "      <th>2</th>\n",
       "      <td>S03</td>\n",
       "      <td>80</td>\n",
       "      <td>78</td>\n",
       "      <td>18</td>\n",
       "      <td>18</td>\n",
       "    </tr>\n",
       "    <tr>\n",
       "      <th>3</th>\n",
       "      <td>S04</td>\n",
       "      <td>78</td>\n",
       "      <td>75</td>\n",
       "      <td>10</td>\n",
       "      <td>10</td>\n",
       "    </tr>\n",
       "    <tr>\n",
       "      <th>4</th>\n",
       "      <td>S05</td>\n",
       "      <td>93</td>\n",
       "      <td>91</td>\n",
       "      <td>12</td>\n",
       "      <td>12</td>\n",
       "    </tr>\n",
       "    <tr>\n",
       "      <th>5</th>\n",
       "      <td>S06</td>\n",
       "      <td>71</td>\n",
       "      <td>75</td>\n",
       "      <td>16</td>\n",
       "      <td>16</td>\n",
       "    </tr>\n",
       "    <tr>\n",
       "      <th>6</th>\n",
       "      <td>S07</td>\n",
       "      <td>60</td>\n",
       "      <td>80</td>\n",
       "      <td>18</td>\n",
       "      <td>18</td>\n",
       "    </tr>\n",
       "    <tr>\n",
       "      <th>7</th>\n",
       "      <td>S08</td>\n",
       "      <td>72</td>\n",
       "      <td>65</td>\n",
       "      <td>14</td>\n",
       "      <td>14</td>\n",
       "    </tr>\n",
       "    <tr>\n",
       "      <th>8</th>\n",
       "      <td>S09</td>\n",
       "      <td>65</td>\n",
       "      <td>65</td>\n",
       "      <td>14</td>\n",
       "      <td>14</td>\n",
       "    </tr>\n",
       "    <tr>\n",
       "      <th>9</th>\n",
       "      <td>S10</td>\n",
       "      <td>85</td>\n",
       "      <td>78</td>\n",
       "      <td>10</td>\n",
       "      <td>10</td>\n",
       "    </tr>\n",
       "  </tbody>\n",
       "</table>\n",
       "</div>"
      ],
      "text/plain": [
       "    학번  중간  기말  리포트  퀴즈\n",
       "0  S01  90  95   20  20\n",
       "1  S02  82  83   18  18\n",
       "2  S03  80  78   18  18\n",
       "3  S04  78  75   10  10\n",
       "4  S05  93  91   12  12\n",
       "5  S06  71  75   16  16\n",
       "6  S07  60  80   18  18\n",
       "7  S08  72  65   14  14\n",
       "8  S09  65  65   14  14\n",
       "9  S10  85  78   10  10"
      ]
     },
     "execution_count": 20,
     "metadata": {},
     "output_type": "execute_result"
    }
   ],
   "source": [
    "import pandas as pd\n",
    "df1=pd.read_csv('PART 02 파이썬 분석\\csv\\df_sample.csv')\n",
    "df1"
   ]
  },
  {
   "cell_type": "code",
   "execution_count": 21,
   "metadata": {},
   "outputs": [
    {
     "data": {
      "text/html": [
       "<div>\n",
       "<style scoped>\n",
       "    .dataframe tbody tr th:only-of-type {\n",
       "        vertical-align: middle;\n",
       "    }\n",
       "\n",
       "    .dataframe tbody tr th {\n",
       "        vertical-align: top;\n",
       "    }\n",
       "\n",
       "    .dataframe thead th {\n",
       "        text-align: right;\n",
       "    }\n",
       "</style>\n",
       "<table border=\"1\" class=\"dataframe\">\n",
       "  <thead>\n",
       "    <tr style=\"text-align: right;\">\n",
       "      <th></th>\n",
       "      <th>학번</th>\n",
       "      <th>중간</th>\n",
       "      <th>기말</th>\n",
       "      <th>리포트</th>\n",
       "      <th>퀴즈</th>\n",
       "    </tr>\n",
       "  </thead>\n",
       "  <tbody>\n",
       "    <tr>\n",
       "      <th>0</th>\n",
       "      <td>S01</td>\n",
       "      <td>90</td>\n",
       "      <td>95</td>\n",
       "      <td>20</td>\n",
       "      <td>20</td>\n",
       "    </tr>\n",
       "    <tr>\n",
       "      <th>1</th>\n",
       "      <td>S02</td>\n",
       "      <td>82</td>\n",
       "      <td>83</td>\n",
       "      <td>18</td>\n",
       "      <td>18</td>\n",
       "    </tr>\n",
       "    <tr>\n",
       "      <th>2</th>\n",
       "      <td>S03</td>\n",
       "      <td>80</td>\n",
       "      <td>78</td>\n",
       "      <td>18</td>\n",
       "      <td>18</td>\n",
       "    </tr>\n",
       "    <tr>\n",
       "      <th>3</th>\n",
       "      <td>S04</td>\n",
       "      <td>78</td>\n",
       "      <td>75</td>\n",
       "      <td>10</td>\n",
       "      <td>10</td>\n",
       "    </tr>\n",
       "    <tr>\n",
       "      <th>4</th>\n",
       "      <td>S05</td>\n",
       "      <td>93</td>\n",
       "      <td>91</td>\n",
       "      <td>12</td>\n",
       "      <td>12</td>\n",
       "    </tr>\n",
       "  </tbody>\n",
       "</table>\n",
       "</div>"
      ],
      "text/plain": [
       "    학번  중간  기말  리포트  퀴즈\n",
       "0  S01  90  95   20  20\n",
       "1  S02  82  83   18  18\n",
       "2  S03  80  78   18  18\n",
       "3  S04  78  75   10  10\n",
       "4  S05  93  91   12  12"
      ]
     },
     "execution_count": 21,
     "metadata": {},
     "output_type": "execute_result"
    }
   ],
   "source": [
    "df1.head(5)"
   ]
  },
  {
   "cell_type": "code",
   "execution_count": 22,
   "metadata": {},
   "outputs": [
    {
     "data": {
      "text/plain": [
       "(10, 5)"
      ]
     },
     "execution_count": 22,
     "metadata": {},
     "output_type": "execute_result"
    }
   ],
   "source": [
    "df1.shape"
   ]
  },
  {
   "cell_type": "code",
   "execution_count": 23,
   "metadata": {},
   "outputs": [
    {
     "name": "stdout",
     "output_type": "stream",
     "text": [
      "<class 'pandas.core.frame.DataFrame'>\n",
      "RangeIndex: 10 entries, 0 to 9\n",
      "Data columns (total 5 columns):\n",
      " #   Column  Non-Null Count  Dtype \n",
      "---  ------  --------------  ----- \n",
      " 0   학번      10 non-null     object\n",
      " 1   중간      10 non-null     int64 \n",
      " 2   기말      10 non-null     int64 \n",
      " 3   리포트     10 non-null     int64 \n",
      " 4   퀴즈      10 non-null     int64 \n",
      "dtypes: int64(4), object(1)\n",
      "memory usage: 528.0+ bytes\n",
      "None\n"
     ]
    }
   ],
   "source": [
    "print(df1.info())"
   ]
  },
  {
   "cell_type": "code",
   "execution_count": 24,
   "metadata": {},
   "outputs": [
    {
     "data": {
      "text/html": [
       "<div>\n",
       "<style scoped>\n",
       "    .dataframe tbody tr th:only-of-type {\n",
       "        vertical-align: middle;\n",
       "    }\n",
       "\n",
       "    .dataframe tbody tr th {\n",
       "        vertical-align: top;\n",
       "    }\n",
       "\n",
       "    .dataframe thead th {\n",
       "        text-align: right;\n",
       "    }\n",
       "</style>\n",
       "<table border=\"1\" class=\"dataframe\">\n",
       "  <thead>\n",
       "    <tr style=\"text-align: right;\">\n",
       "      <th></th>\n",
       "      <th>학번</th>\n",
       "      <th>중간</th>\n",
       "      <th>기말</th>\n",
       "      <th>리포트</th>\n",
       "      <th>퀴즈</th>\n",
       "    </tr>\n",
       "  </thead>\n",
       "  <tbody>\n",
       "    <tr>\n",
       "      <th>count</th>\n",
       "      <td>10</td>\n",
       "      <td>10.000000</td>\n",
       "      <td>10.000000</td>\n",
       "      <td>10.000000</td>\n",
       "      <td>10.000000</td>\n",
       "    </tr>\n",
       "    <tr>\n",
       "      <th>unique</th>\n",
       "      <td>10</td>\n",
       "      <td>NaN</td>\n",
       "      <td>NaN</td>\n",
       "      <td>NaN</td>\n",
       "      <td>NaN</td>\n",
       "    </tr>\n",
       "    <tr>\n",
       "      <th>top</th>\n",
       "      <td>S01</td>\n",
       "      <td>NaN</td>\n",
       "      <td>NaN</td>\n",
       "      <td>NaN</td>\n",
       "      <td>NaN</td>\n",
       "    </tr>\n",
       "    <tr>\n",
       "      <th>freq</th>\n",
       "      <td>1</td>\n",
       "      <td>NaN</td>\n",
       "      <td>NaN</td>\n",
       "      <td>NaN</td>\n",
       "      <td>NaN</td>\n",
       "    </tr>\n",
       "    <tr>\n",
       "      <th>mean</th>\n",
       "      <td>NaN</td>\n",
       "      <td>77.600000</td>\n",
       "      <td>78.500000</td>\n",
       "      <td>15.000000</td>\n",
       "      <td>15.000000</td>\n",
       "    </tr>\n",
       "    <tr>\n",
       "      <th>std</th>\n",
       "      <td>NaN</td>\n",
       "      <td>10.616549</td>\n",
       "      <td>9.663793</td>\n",
       "      <td>3.559026</td>\n",
       "      <td>3.559026</td>\n",
       "    </tr>\n",
       "    <tr>\n",
       "      <th>min</th>\n",
       "      <td>NaN</td>\n",
       "      <td>60.000000</td>\n",
       "      <td>65.000000</td>\n",
       "      <td>10.000000</td>\n",
       "      <td>10.000000</td>\n",
       "    </tr>\n",
       "    <tr>\n",
       "      <th>25%</th>\n",
       "      <td>NaN</td>\n",
       "      <td>71.250000</td>\n",
       "      <td>75.000000</td>\n",
       "      <td>12.500000</td>\n",
       "      <td>12.500000</td>\n",
       "    </tr>\n",
       "    <tr>\n",
       "      <th>50%</th>\n",
       "      <td>NaN</td>\n",
       "      <td>79.000000</td>\n",
       "      <td>78.000000</td>\n",
       "      <td>15.000000</td>\n",
       "      <td>15.000000</td>\n",
       "    </tr>\n",
       "    <tr>\n",
       "      <th>75%</th>\n",
       "      <td>NaN</td>\n",
       "      <td>84.250000</td>\n",
       "      <td>82.250000</td>\n",
       "      <td>18.000000</td>\n",
       "      <td>18.000000</td>\n",
       "    </tr>\n",
       "    <tr>\n",
       "      <th>max</th>\n",
       "      <td>NaN</td>\n",
       "      <td>93.000000</td>\n",
       "      <td>95.000000</td>\n",
       "      <td>20.000000</td>\n",
       "      <td>20.000000</td>\n",
       "    </tr>\n",
       "  </tbody>\n",
       "</table>\n",
       "</div>"
      ],
      "text/plain": [
       "         학번         중간         기말        리포트         퀴즈\n",
       "count    10  10.000000  10.000000  10.000000  10.000000\n",
       "unique   10        NaN        NaN        NaN        NaN\n",
       "top     S01        NaN        NaN        NaN        NaN\n",
       "freq      1        NaN        NaN        NaN        NaN\n",
       "mean    NaN  77.600000  78.500000  15.000000  15.000000\n",
       "std     NaN  10.616549   9.663793   3.559026   3.559026\n",
       "min     NaN  60.000000  65.000000  10.000000  10.000000\n",
       "25%     NaN  71.250000  75.000000  12.500000  12.500000\n",
       "50%     NaN  79.000000  78.000000  15.000000  15.000000\n",
       "75%     NaN  84.250000  82.250000  18.000000  18.000000\n",
       "max     NaN  93.000000  95.000000  20.000000  20.000000"
      ]
     },
     "execution_count": 24,
     "metadata": {},
     "output_type": "execute_result"
    }
   ],
   "source": [
    "df1.describe(include='all')"
   ]
  },
  {
   "cell_type": "code",
   "execution_count": 25,
   "metadata": {},
   "outputs": [
    {
     "name": "stdout",
     "output_type": "stream",
     "text": [
      "77.6\n",
      "중간    77.6\n",
      "기말    78.5\n",
      "dtype: float64\n"
     ]
    }
   ],
   "source": [
    "print(df1['중간'].mean())\n",
    "print(df1[['중간','기말']].mean())"
   ]
  },
  {
   "cell_type": "code",
   "execution_count": 31,
   "metadata": {},
   "outputs": [
    {
     "name": "stdout",
     "output_type": "stream",
     "text": [
      "S01\n",
      "중간    93\n",
      "기말    95\n",
      "dtype: int64\n"
     ]
    }
   ],
   "source": [
    "print(df1['학번'].min())\n",
    "print(df1[['중간','기말']].max())"
   ]
  },
  {
   "cell_type": "code",
   "execution_count": 36,
   "metadata": {},
   "outputs": [
    {
     "name": "stdout",
     "output_type": "stream",
     "text": [
      "중간     79.0\n",
      "기말     78.0\n",
      "리포트    15.0\n",
      "퀴즈     15.0\n",
      "dtype: float64\n"
     ]
    }
   ],
   "source": [
    "print(df1[['중간','기말','리포트','퀴즈']].median())\n"
   ]
  },
  {
   "cell_type": "code",
   "execution_count": 27,
   "metadata": {},
   "outputs": [
    {
     "name": "stdout",
     "output_type": "stream",
     "text": [
      "표준편차 :\n",
      "중간    10.616549\n",
      "기말     9.663793\n",
      "dtype: float64\n",
      "분산 :\n",
      "중간    112.711111\n",
      "기말     93.388889\n",
      "dtype: float64\n"
     ]
    }
   ],
   "source": [
    "print(\"표준편차 :\")\n",
    "print(df1[['중간','기말']].std())\n",
    "print(\"분산 :\")\n",
    "print(df1[['중간','기말']].var())"
   ]
  },
  {
   "cell_type": "code",
   "execution_count": 37,
   "metadata": {},
   "outputs": [
    {
     "data": {
      "text/plain": [
       "퀴즈\n",
       "18    3\n",
       "10    2\n",
       "14    2\n",
       "20    1\n",
       "12    1\n",
       "16    1\n",
       "Name: count, dtype: int64"
      ]
     },
     "execution_count": 37,
     "metadata": {},
     "output_type": "execute_result"
    }
   ],
   "source": [
    "df1['퀴즈'].value_counts()"
   ]
  },
  {
   "cell_type": "code",
   "execution_count": 38,
   "metadata": {},
   "outputs": [
    {
     "data": {
      "text/html": [
       "<div>\n",
       "<style scoped>\n",
       "    .dataframe tbody tr th:only-of-type {\n",
       "        vertical-align: middle;\n",
       "    }\n",
       "\n",
       "    .dataframe tbody tr th {\n",
       "        vertical-align: top;\n",
       "    }\n",
       "\n",
       "    .dataframe thead th {\n",
       "        text-align: right;\n",
       "    }\n",
       "</style>\n",
       "<table border=\"1\" class=\"dataframe\">\n",
       "  <thead>\n",
       "    <tr style=\"text-align: right;\">\n",
       "      <th></th>\n",
       "      <th>중간</th>\n",
       "      <th>기말</th>\n",
       "    </tr>\n",
       "  </thead>\n",
       "  <tbody>\n",
       "    <tr>\n",
       "      <th>중간</th>\n",
       "      <td>1.000000</td>\n",
       "      <td>0.707196</td>\n",
       "    </tr>\n",
       "    <tr>\n",
       "      <th>기말</th>\n",
       "      <td>0.707196</td>\n",
       "      <td>1.000000</td>\n",
       "    </tr>\n",
       "  </tbody>\n",
       "</table>\n",
       "</div>"
      ],
      "text/plain": [
       "          중간        기말\n",
       "중간  1.000000  0.707196\n",
       "기말  0.707196  1.000000"
      ]
     },
     "execution_count": 38,
     "metadata": {},
     "output_type": "execute_result"
    }
   ],
   "source": [
    "df1[['중간','기말']].corr()"
   ]
  },
  {
   "cell_type": "code",
   "execution_count": 40,
   "metadata": {},
   "outputs": [
    {
     "data": {
      "text/html": [
       "<div>\n",
       "<style scoped>\n",
       "    .dataframe tbody tr th:only-of-type {\n",
       "        vertical-align: middle;\n",
       "    }\n",
       "\n",
       "    .dataframe tbody tr th {\n",
       "        vertical-align: top;\n",
       "    }\n",
       "\n",
       "    .dataframe thead th {\n",
       "        text-align: right;\n",
       "    }\n",
       "</style>\n",
       "<table border=\"1\" class=\"dataframe\">\n",
       "  <thead>\n",
       "    <tr style=\"text-align: right;\">\n",
       "      <th></th>\n",
       "      <th>중간</th>\n",
       "      <th>기말</th>\n",
       "      <th>리포트</th>\n",
       "      <th>퀴즈</th>\n",
       "    </tr>\n",
       "  </thead>\n",
       "  <tbody>\n",
       "    <tr>\n",
       "      <th>중간</th>\n",
       "      <td>1.000000</td>\n",
       "      <td>0.707196</td>\n",
       "      <td>-0.129388</td>\n",
       "      <td>-0.129388</td>\n",
       "    </tr>\n",
       "    <tr>\n",
       "      <th>기말</th>\n",
       "      <td>0.707196</td>\n",
       "      <td>1.000000</td>\n",
       "      <td>0.339210</td>\n",
       "      <td>0.339210</td>\n",
       "    </tr>\n",
       "    <tr>\n",
       "      <th>리포트</th>\n",
       "      <td>-0.129388</td>\n",
       "      <td>0.339210</td>\n",
       "      <td>1.000000</td>\n",
       "      <td>1.000000</td>\n",
       "    </tr>\n",
       "    <tr>\n",
       "      <th>퀴즈</th>\n",
       "      <td>-0.129388</td>\n",
       "      <td>0.339210</td>\n",
       "      <td>1.000000</td>\n",
       "      <td>1.000000</td>\n",
       "    </tr>\n",
       "  </tbody>\n",
       "</table>\n",
       "</div>"
      ],
      "text/plain": [
       "           중간        기말       리포트        퀴즈\n",
       "중간   1.000000  0.707196 -0.129388 -0.129388\n",
       "기말   0.707196  1.000000  0.339210  0.339210\n",
       "리포트 -0.129388  0.339210  1.000000  1.000000\n",
       "퀴즈  -0.129388  0.339210  1.000000  1.000000"
      ]
     },
     "execution_count": 40,
     "metadata": {},
     "output_type": "execute_result"
    }
   ],
   "source": [
    "df1[['중간','기말','리포트','퀴즈']].corr()"
   ]
  },
  {
   "cell_type": "code",
   "execution_count": 41,
   "metadata": {},
   "outputs": [
    {
     "data": {
      "text/html": [
       "<div>\n",
       "<style scoped>\n",
       "    .dataframe tbody tr th:only-of-type {\n",
       "        vertical-align: middle;\n",
       "    }\n",
       "\n",
       "    .dataframe tbody tr th {\n",
       "        vertical-align: top;\n",
       "    }\n",
       "\n",
       "    .dataframe thead th {\n",
       "        text-align: right;\n",
       "    }\n",
       "</style>\n",
       "<table border=\"1\" class=\"dataframe\">\n",
       "  <thead>\n",
       "    <tr style=\"text-align: right;\">\n",
       "      <th></th>\n",
       "      <th>중간</th>\n",
       "      <th>기말</th>\n",
       "      <th>리포트</th>\n",
       "      <th>퀴즈</th>\n",
       "    </tr>\n",
       "    <tr>\n",
       "      <th>학번</th>\n",
       "      <th></th>\n",
       "      <th></th>\n",
       "      <th></th>\n",
       "      <th></th>\n",
       "    </tr>\n",
       "  </thead>\n",
       "  <tbody>\n",
       "    <tr>\n",
       "      <th>S01</th>\n",
       "      <td>90</td>\n",
       "      <td>95</td>\n",
       "      <td>20</td>\n",
       "      <td>20</td>\n",
       "    </tr>\n",
       "    <tr>\n",
       "      <th>S02</th>\n",
       "      <td>82</td>\n",
       "      <td>83</td>\n",
       "      <td>18</td>\n",
       "      <td>18</td>\n",
       "    </tr>\n",
       "    <tr>\n",
       "      <th>S03</th>\n",
       "      <td>80</td>\n",
       "      <td>78</td>\n",
       "      <td>18</td>\n",
       "      <td>18</td>\n",
       "    </tr>\n",
       "    <tr>\n",
       "      <th>S04</th>\n",
       "      <td>78</td>\n",
       "      <td>75</td>\n",
       "      <td>10</td>\n",
       "      <td>10</td>\n",
       "    </tr>\n",
       "    <tr>\n",
       "      <th>S05</th>\n",
       "      <td>93</td>\n",
       "      <td>91</td>\n",
       "      <td>12</td>\n",
       "      <td>12</td>\n",
       "    </tr>\n",
       "    <tr>\n",
       "      <th>S06</th>\n",
       "      <td>71</td>\n",
       "      <td>75</td>\n",
       "      <td>16</td>\n",
       "      <td>16</td>\n",
       "    </tr>\n",
       "    <tr>\n",
       "      <th>S07</th>\n",
       "      <td>60</td>\n",
       "      <td>80</td>\n",
       "      <td>18</td>\n",
       "      <td>18</td>\n",
       "    </tr>\n",
       "    <tr>\n",
       "      <th>S08</th>\n",
       "      <td>72</td>\n",
       "      <td>65</td>\n",
       "      <td>14</td>\n",
       "      <td>14</td>\n",
       "    </tr>\n",
       "    <tr>\n",
       "      <th>S09</th>\n",
       "      <td>65</td>\n",
       "      <td>65</td>\n",
       "      <td>14</td>\n",
       "      <td>14</td>\n",
       "    </tr>\n",
       "    <tr>\n",
       "      <th>S10</th>\n",
       "      <td>85</td>\n",
       "      <td>78</td>\n",
       "      <td>10</td>\n",
       "      <td>10</td>\n",
       "    </tr>\n",
       "  </tbody>\n",
       "</table>\n",
       "</div>"
      ],
      "text/plain": [
       "     중간  기말  리포트  퀴즈\n",
       "학번                  \n",
       "S01  90  95   20  20\n",
       "S02  82  83   18  18\n",
       "S03  80  78   18  18\n",
       "S04  78  75   10  10\n",
       "S05  93  91   12  12\n",
       "S06  71  75   16  16\n",
       "S07  60  80   18  18\n",
       "S08  72  65   14  14\n",
       "S09  65  65   14  14\n",
       "S10  85  78   10  10"
      ]
     },
     "execution_count": 41,
     "metadata": {},
     "output_type": "execute_result"
    }
   ],
   "source": [
    "import pandas as pd\n",
    "\n",
    "df1=pd.read_csv('PART 02 파이썬 분석\\csv\\df_sample.csv')\n",
    "df1.set_index('학번')"
   ]
  },
  {
   "cell_type": "code",
   "execution_count": 42,
   "metadata": {},
   "outputs": [
    {
     "data": {
      "text/plain": [
       "퀴즈\n",
       "18    3\n",
       "10    2\n",
       "14    2\n",
       "20    1\n",
       "12    1\n",
       "16    1\n",
       "Name: count, dtype: int64"
      ]
     },
     "execution_count": 42,
     "metadata": {},
     "output_type": "execute_result"
    }
   ],
   "source": [
    "df1['퀴즈'].value_counts()"
   ]
  },
  {
   "cell_type": "code",
   "execution_count": 43,
   "metadata": {},
   "outputs": [
    {
     "data": {
      "text/html": [
       "<div>\n",
       "<style scoped>\n",
       "    .dataframe tbody tr th:only-of-type {\n",
       "        vertical-align: middle;\n",
       "    }\n",
       "\n",
       "    .dataframe tbody tr th {\n",
       "        vertical-align: top;\n",
       "    }\n",
       "\n",
       "    .dataframe thead th {\n",
       "        text-align: right;\n",
       "    }\n",
       "</style>\n",
       "<table border=\"1\" class=\"dataframe\">\n",
       "  <thead>\n",
       "    <tr style=\"text-align: right;\">\n",
       "      <th></th>\n",
       "      <th>중간</th>\n",
       "      <th>기말</th>\n",
       "    </tr>\n",
       "  </thead>\n",
       "  <tbody>\n",
       "    <tr>\n",
       "      <th>중간</th>\n",
       "      <td>1.000000</td>\n",
       "      <td>0.707196</td>\n",
       "    </tr>\n",
       "    <tr>\n",
       "      <th>기말</th>\n",
       "      <td>0.707196</td>\n",
       "      <td>1.000000</td>\n",
       "    </tr>\n",
       "  </tbody>\n",
       "</table>\n",
       "</div>"
      ],
      "text/plain": [
       "          중간        기말\n",
       "중간  1.000000  0.707196\n",
       "기말  0.707196  1.000000"
      ]
     },
     "execution_count": 43,
     "metadata": {},
     "output_type": "execute_result"
    }
   ],
   "source": [
    "df1[['중간','기말']].corr()"
   ]
  },
  {
   "cell_type": "code",
   "execution_count": 45,
   "metadata": {},
   "outputs": [
    {
     "data": {
      "text/html": [
       "<div>\n",
       "<style scoped>\n",
       "    .dataframe tbody tr th:only-of-type {\n",
       "        vertical-align: middle;\n",
       "    }\n",
       "\n",
       "    .dataframe tbody tr th {\n",
       "        vertical-align: top;\n",
       "    }\n",
       "\n",
       "    .dataframe thead th {\n",
       "        text-align: right;\n",
       "    }\n",
       "</style>\n",
       "<table border=\"1\" class=\"dataframe\">\n",
       "  <thead>\n",
       "    <tr style=\"text-align: right;\">\n",
       "      <th></th>\n",
       "      <th>학번</th>\n",
       "      <th>중간</th>\n",
       "      <th>기말</th>\n",
       "      <th>리포트</th>\n",
       "      <th>퀴즈</th>\n",
       "    </tr>\n",
       "    <tr>\n",
       "      <th>학번</th>\n",
       "      <th></th>\n",
       "      <th></th>\n",
       "      <th></th>\n",
       "      <th></th>\n",
       "      <th></th>\n",
       "    </tr>\n",
       "  </thead>\n",
       "  <tbody>\n",
       "    <tr>\n",
       "      <th>S01</th>\n",
       "      <td>S01</td>\n",
       "      <td>90</td>\n",
       "      <td>95</td>\n",
       "      <td>20</td>\n",
       "      <td>20</td>\n",
       "    </tr>\n",
       "    <tr>\n",
       "      <th>S02</th>\n",
       "      <td>S02</td>\n",
       "      <td>82</td>\n",
       "      <td>83</td>\n",
       "      <td>18</td>\n",
       "      <td>18</td>\n",
       "    </tr>\n",
       "    <tr>\n",
       "      <th>S03</th>\n",
       "      <td>S03</td>\n",
       "      <td>80</td>\n",
       "      <td>78</td>\n",
       "      <td>18</td>\n",
       "      <td>18</td>\n",
       "    </tr>\n",
       "    <tr>\n",
       "      <th>S04</th>\n",
       "      <td>S04</td>\n",
       "      <td>78</td>\n",
       "      <td>75</td>\n",
       "      <td>10</td>\n",
       "      <td>10</td>\n",
       "    </tr>\n",
       "    <tr>\n",
       "      <th>S05</th>\n",
       "      <td>S05</td>\n",
       "      <td>93</td>\n",
       "      <td>91</td>\n",
       "      <td>12</td>\n",
       "      <td>12</td>\n",
       "    </tr>\n",
       "    <tr>\n",
       "      <th>S06</th>\n",
       "      <td>S06</td>\n",
       "      <td>71</td>\n",
       "      <td>75</td>\n",
       "      <td>16</td>\n",
       "      <td>16</td>\n",
       "    </tr>\n",
       "    <tr>\n",
       "      <th>S07</th>\n",
       "      <td>S07</td>\n",
       "      <td>60</td>\n",
       "      <td>80</td>\n",
       "      <td>18</td>\n",
       "      <td>18</td>\n",
       "    </tr>\n",
       "    <tr>\n",
       "      <th>S08</th>\n",
       "      <td>S08</td>\n",
       "      <td>72</td>\n",
       "      <td>65</td>\n",
       "      <td>14</td>\n",
       "      <td>14</td>\n",
       "    </tr>\n",
       "    <tr>\n",
       "      <th>S09</th>\n",
       "      <td>S09</td>\n",
       "      <td>65</td>\n",
       "      <td>65</td>\n",
       "      <td>14</td>\n",
       "      <td>14</td>\n",
       "    </tr>\n",
       "    <tr>\n",
       "      <th>S10</th>\n",
       "      <td>S10</td>\n",
       "      <td>85</td>\n",
       "      <td>78</td>\n",
       "      <td>10</td>\n",
       "      <td>10</td>\n",
       "    </tr>\n",
       "  </tbody>\n",
       "</table>\n",
       "</div>"
      ],
      "text/plain": [
       "      학번  중간  기말  리포트  퀴즈\n",
       "학번                       \n",
       "S01  S01  90  95   20  20\n",
       "S02  S02  82  83   18  18\n",
       "S03  S03  80  78   18  18\n",
       "S04  S04  78  75   10  10\n",
       "S05  S05  93  91   12  12\n",
       "S06  S06  71  75   16  16\n",
       "S07  S07  60  80   18  18\n",
       "S08  S08  72  65   14  14\n",
       "S09  S09  65  65   14  14\n",
       "S10  S10  85  78   10  10"
      ]
     },
     "execution_count": 45,
     "metadata": {},
     "output_type": "execute_result"
    }
   ],
   "source": [
    "df1.index=df1['학번']\n",
    "df1"
   ]
  },
  {
   "cell_type": "code",
   "execution_count": 47,
   "metadata": {},
   "outputs": [
    {
     "data": {
      "text/html": [
       "<div>\n",
       "<style scoped>\n",
       "    .dataframe tbody tr th:only-of-type {\n",
       "        vertical-align: middle;\n",
       "    }\n",
       "\n",
       "    .dataframe tbody tr th {\n",
       "        vertical-align: top;\n",
       "    }\n",
       "\n",
       "    .dataframe thead th {\n",
       "        text-align: right;\n",
       "    }\n",
       "</style>\n",
       "<table border=\"1\" class=\"dataframe\">\n",
       "  <thead>\n",
       "    <tr style=\"text-align: right;\">\n",
       "      <th></th>\n",
       "      <th>학번</th>\n",
       "      <th>중간</th>\n",
       "      <th>기말</th>\n",
       "      <th>리포트</th>\n",
       "      <th>퀴즈</th>\n",
       "    </tr>\n",
       "  </thead>\n",
       "  <tbody>\n",
       "    <tr>\n",
       "      <th>0</th>\n",
       "      <td>S01</td>\n",
       "      <td>90</td>\n",
       "      <td>95</td>\n",
       "      <td>20</td>\n",
       "      <td>20</td>\n",
       "    </tr>\n",
       "    <tr>\n",
       "      <th>1</th>\n",
       "      <td>S02</td>\n",
       "      <td>82</td>\n",
       "      <td>83</td>\n",
       "      <td>18</td>\n",
       "      <td>18</td>\n",
       "    </tr>\n",
       "    <tr>\n",
       "      <th>2</th>\n",
       "      <td>S03</td>\n",
       "      <td>80</td>\n",
       "      <td>78</td>\n",
       "      <td>18</td>\n",
       "      <td>18</td>\n",
       "    </tr>\n",
       "    <tr>\n",
       "      <th>3</th>\n",
       "      <td>S04</td>\n",
       "      <td>78</td>\n",
       "      <td>75</td>\n",
       "      <td>10</td>\n",
       "      <td>10</td>\n",
       "    </tr>\n",
       "    <tr>\n",
       "      <th>4</th>\n",
       "      <td>S05</td>\n",
       "      <td>93</td>\n",
       "      <td>91</td>\n",
       "      <td>12</td>\n",
       "      <td>12</td>\n",
       "    </tr>\n",
       "    <tr>\n",
       "      <th>5</th>\n",
       "      <td>S06</td>\n",
       "      <td>71</td>\n",
       "      <td>75</td>\n",
       "      <td>16</td>\n",
       "      <td>16</td>\n",
       "    </tr>\n",
       "    <tr>\n",
       "      <th>6</th>\n",
       "      <td>S07</td>\n",
       "      <td>60</td>\n",
       "      <td>80</td>\n",
       "      <td>18</td>\n",
       "      <td>18</td>\n",
       "    </tr>\n",
       "    <tr>\n",
       "      <th>7</th>\n",
       "      <td>S08</td>\n",
       "      <td>72</td>\n",
       "      <td>65</td>\n",
       "      <td>14</td>\n",
       "      <td>14</td>\n",
       "    </tr>\n",
       "    <tr>\n",
       "      <th>8</th>\n",
       "      <td>S09</td>\n",
       "      <td>65</td>\n",
       "      <td>65</td>\n",
       "      <td>14</td>\n",
       "      <td>14</td>\n",
       "    </tr>\n",
       "    <tr>\n",
       "      <th>9</th>\n",
       "      <td>S10</td>\n",
       "      <td>85</td>\n",
       "      <td>78</td>\n",
       "      <td>10</td>\n",
       "      <td>10</td>\n",
       "    </tr>\n",
       "  </tbody>\n",
       "</table>\n",
       "</div>"
      ],
      "text/plain": [
       "    학번  중간  기말  리포트  퀴즈\n",
       "0  S01  90  95   20  20\n",
       "1  S02  82  83   18  18\n",
       "2  S03  80  78   18  18\n",
       "3  S04  78  75   10  10\n",
       "4  S05  93  91   12  12\n",
       "5  S06  71  75   16  16\n",
       "6  S07  60  80   18  18\n",
       "7  S08  72  65   14  14\n",
       "8  S09  65  65   14  14\n",
       "9  S10  85  78   10  10"
      ]
     },
     "execution_count": 47,
     "metadata": {},
     "output_type": "execute_result"
    }
   ],
   "source": [
    "df1.reset_index(drop=True)"
   ]
  },
  {
   "cell_type": "code",
   "execution_count": 48,
   "metadata": {},
   "outputs": [
    {
     "data": {
      "text/html": [
       "<div>\n",
       "<style scoped>\n",
       "    .dataframe tbody tr th:only-of-type {\n",
       "        vertical-align: middle;\n",
       "    }\n",
       "\n",
       "    .dataframe tbody tr th {\n",
       "        vertical-align: top;\n",
       "    }\n",
       "\n",
       "    .dataframe thead th {\n",
       "        text-align: right;\n",
       "    }\n",
       "</style>\n",
       "<table border=\"1\" class=\"dataframe\">\n",
       "  <thead>\n",
       "    <tr style=\"text-align: right;\">\n",
       "      <th></th>\n",
       "      <th>학번</th>\n",
       "      <th>중간</th>\n",
       "      <th>기말</th>\n",
       "      <th>리포트</th>\n",
       "      <th>퀴즈</th>\n",
       "    </tr>\n",
       "    <tr>\n",
       "      <th>학번</th>\n",
       "      <th></th>\n",
       "      <th></th>\n",
       "      <th></th>\n",
       "      <th></th>\n",
       "      <th></th>\n",
       "    </tr>\n",
       "  </thead>\n",
       "  <tbody>\n",
       "    <tr>\n",
       "      <th>S01</th>\n",
       "      <td>S01</td>\n",
       "      <td>90</td>\n",
       "      <td>95</td>\n",
       "      <td>20</td>\n",
       "      <td>20</td>\n",
       "    </tr>\n",
       "    <tr>\n",
       "      <th>S02</th>\n",
       "      <td>S02</td>\n",
       "      <td>82</td>\n",
       "      <td>83</td>\n",
       "      <td>18</td>\n",
       "      <td>18</td>\n",
       "    </tr>\n",
       "    <tr>\n",
       "      <th>S03</th>\n",
       "      <td>S03</td>\n",
       "      <td>80</td>\n",
       "      <td>78</td>\n",
       "      <td>18</td>\n",
       "      <td>18</td>\n",
       "    </tr>\n",
       "    <tr>\n",
       "      <th>S04</th>\n",
       "      <td>S04</td>\n",
       "      <td>78</td>\n",
       "      <td>75</td>\n",
       "      <td>10</td>\n",
       "      <td>10</td>\n",
       "    </tr>\n",
       "    <tr>\n",
       "      <th>S05</th>\n",
       "      <td>S05</td>\n",
       "      <td>93</td>\n",
       "      <td>91</td>\n",
       "      <td>12</td>\n",
       "      <td>12</td>\n",
       "    </tr>\n",
       "    <tr>\n",
       "      <th>S06</th>\n",
       "      <td>S06</td>\n",
       "      <td>71</td>\n",
       "      <td>75</td>\n",
       "      <td>16</td>\n",
       "      <td>16</td>\n",
       "    </tr>\n",
       "    <tr>\n",
       "      <th>S07</th>\n",
       "      <td>S07</td>\n",
       "      <td>60</td>\n",
       "      <td>80</td>\n",
       "      <td>18</td>\n",
       "      <td>18</td>\n",
       "    </tr>\n",
       "    <tr>\n",
       "      <th>S08</th>\n",
       "      <td>S08</td>\n",
       "      <td>72</td>\n",
       "      <td>65</td>\n",
       "      <td>14</td>\n",
       "      <td>14</td>\n",
       "    </tr>\n",
       "    <tr>\n",
       "      <th>S09</th>\n",
       "      <td>S09</td>\n",
       "      <td>65</td>\n",
       "      <td>65</td>\n",
       "      <td>14</td>\n",
       "      <td>14</td>\n",
       "    </tr>\n",
       "    <tr>\n",
       "      <th>S10</th>\n",
       "      <td>S10</td>\n",
       "      <td>85</td>\n",
       "      <td>78</td>\n",
       "      <td>10</td>\n",
       "      <td>10</td>\n",
       "    </tr>\n",
       "  </tbody>\n",
       "</table>\n",
       "</div>"
      ],
      "text/plain": [
       "      학번  중간  기말  리포트  퀴즈\n",
       "학번                       \n",
       "S01  S01  90  95   20  20\n",
       "S02  S02  82  83   18  18\n",
       "S03  S03  80  78   18  18\n",
       "S04  S04  78  75   10  10\n",
       "S05  S05  93  91   12  12\n",
       "S06  S06  71  75   16  16\n",
       "S07  S07  60  80   18  18\n",
       "S08  S08  72  65   14  14\n",
       "S09  S09  65  65   14  14\n",
       "S10  S10  85  78   10  10"
      ]
     },
     "execution_count": 48,
     "metadata": {},
     "output_type": "execute_result"
    }
   ],
   "source": [
    "df1.index=df1['학번']\n",
    "df1"
   ]
  },
  {
   "cell_type": "code",
   "execution_count": 54,
   "metadata": {},
   "outputs": [
    {
     "data": {
      "text/html": [
       "<div>\n",
       "<style scoped>\n",
       "    .dataframe tbody tr th:only-of-type {\n",
       "        vertical-align: middle;\n",
       "    }\n",
       "\n",
       "    .dataframe tbody tr th {\n",
       "        vertical-align: top;\n",
       "    }\n",
       "\n",
       "    .dataframe thead th {\n",
       "        text-align: right;\n",
       "    }\n",
       "</style>\n",
       "<table border=\"1\" class=\"dataframe\">\n",
       "  <thead>\n",
       "    <tr style=\"text-align: right;\">\n",
       "      <th></th>\n",
       "      <th>학번</th>\n",
       "      <th>중간</th>\n",
       "      <th>기말</th>\n",
       "      <th>리포트</th>\n",
       "      <th>퀴즈</th>\n",
       "    </tr>\n",
       "  </thead>\n",
       "  <tbody>\n",
       "    <tr>\n",
       "      <th>0</th>\n",
       "      <td>S01</td>\n",
       "      <td>90</td>\n",
       "      <td>95</td>\n",
       "      <td>20</td>\n",
       "      <td>20</td>\n",
       "    </tr>\n",
       "    <tr>\n",
       "      <th>1</th>\n",
       "      <td>S02</td>\n",
       "      <td>82</td>\n",
       "      <td>83</td>\n",
       "      <td>18</td>\n",
       "      <td>18</td>\n",
       "    </tr>\n",
       "    <tr>\n",
       "      <th>2</th>\n",
       "      <td>S03</td>\n",
       "      <td>80</td>\n",
       "      <td>78</td>\n",
       "      <td>18</td>\n",
       "      <td>18</td>\n",
       "    </tr>\n",
       "    <tr>\n",
       "      <th>3</th>\n",
       "      <td>S04</td>\n",
       "      <td>78</td>\n",
       "      <td>75</td>\n",
       "      <td>10</td>\n",
       "      <td>10</td>\n",
       "    </tr>\n",
       "    <tr>\n",
       "      <th>4</th>\n",
       "      <td>S05</td>\n",
       "      <td>93</td>\n",
       "      <td>91</td>\n",
       "      <td>12</td>\n",
       "      <td>12</td>\n",
       "    </tr>\n",
       "    <tr>\n",
       "      <th>5</th>\n",
       "      <td>S06</td>\n",
       "      <td>71</td>\n",
       "      <td>75</td>\n",
       "      <td>16</td>\n",
       "      <td>16</td>\n",
       "    </tr>\n",
       "    <tr>\n",
       "      <th>6</th>\n",
       "      <td>S07</td>\n",
       "      <td>60</td>\n",
       "      <td>80</td>\n",
       "      <td>18</td>\n",
       "      <td>18</td>\n",
       "    </tr>\n",
       "    <tr>\n",
       "      <th>7</th>\n",
       "      <td>S08</td>\n",
       "      <td>72</td>\n",
       "      <td>65</td>\n",
       "      <td>14</td>\n",
       "      <td>14</td>\n",
       "    </tr>\n",
       "    <tr>\n",
       "      <th>8</th>\n",
       "      <td>S09</td>\n",
       "      <td>65</td>\n",
       "      <td>65</td>\n",
       "      <td>14</td>\n",
       "      <td>14</td>\n",
       "    </tr>\n",
       "    <tr>\n",
       "      <th>9</th>\n",
       "      <td>S10</td>\n",
       "      <td>85</td>\n",
       "      <td>78</td>\n",
       "      <td>10</td>\n",
       "      <td>10</td>\n",
       "    </tr>\n",
       "  </tbody>\n",
       "</table>\n",
       "</div>"
      ],
      "text/plain": [
       "    학번  중간  기말  리포트  퀴즈\n",
       "0  S01  90  95   20  20\n",
       "1  S02  82  83   18  18\n",
       "2  S03  80  78   18  18\n",
       "3  S04  78  75   10  10\n",
       "4  S05  93  91   12  12\n",
       "5  S06  71  75   16  16\n",
       "6  S07  60  80   18  18\n",
       "7  S08  72  65   14  14\n",
       "8  S09  65  65   14  14\n",
       "9  S10  85  78   10  10"
      ]
     },
     "execution_count": 54,
     "metadata": {},
     "output_type": "execute_result"
    }
   ],
   "source": [
    "df1.reset_index(drop=True)"
   ]
  },
  {
   "cell_type": "code",
   "execution_count": 58,
   "metadata": {},
   "outputs": [
    {
     "name": "stdout",
     "output_type": "stream",
     "text": [
      "90\n",
      "83\n"
     ]
    }
   ],
   "source": [
    "print(df1.loc['S01','중간'])\n",
    "print(df1.loc['S02','기말'])"
   ]
  },
  {
   "cell_type": "code",
   "execution_count": 59,
   "metadata": {},
   "outputs": [
    {
     "name": "stdout",
     "output_type": "stream",
     "text": [
      "S02 82 83\n"
     ]
    }
   ],
   "source": [
    "print(df1.iloc[1,0],df1.iloc[1,1],df1.iloc[1,2])"
   ]
  },
  {
   "cell_type": "code",
   "execution_count": 60,
   "metadata": {},
   "outputs": [
    {
     "data": {
      "text/plain": [
       "학번     S05\n",
       "중간      93\n",
       "기말      91\n",
       "리포트     12\n",
       "퀴즈      12\n",
       "Name: S05, dtype: object"
      ]
     },
     "execution_count": 60,
     "metadata": {},
     "output_type": "execute_result"
    }
   ],
   "source": [
    "df1.loc['S05']"
   ]
  },
  {
   "cell_type": "code",
   "execution_count": 61,
   "metadata": {},
   "outputs": [
    {
     "data": {
      "text/plain": [
       "학번     S04\n",
       "중간      78\n",
       "기말      75\n",
       "리포트     10\n",
       "퀴즈      10\n",
       "Name: S04, dtype: object"
      ]
     },
     "execution_count": 61,
     "metadata": {},
     "output_type": "execute_result"
    }
   ],
   "source": [
    "df1.iloc[3]"
   ]
  },
  {
   "cell_type": "code",
   "execution_count": 62,
   "metadata": {},
   "outputs": [
    {
     "data": {
      "text/plain": [
       "학번\n",
       "S01    90\n",
       "S02    82\n",
       "S03    80\n",
       "S04    78\n",
       "S05    93\n",
       "S06    71\n",
       "S07    60\n",
       "S08    72\n",
       "S09    65\n",
       "S10    85\n",
       "Name: 중간, dtype: int64"
      ]
     },
     "execution_count": 62,
     "metadata": {},
     "output_type": "execute_result"
    }
   ],
   "source": [
    "df1['중간']"
   ]
  },
  {
   "cell_type": "code",
   "execution_count": 64,
   "metadata": {},
   "outputs": [
    {
     "data": {
      "text/html": [
       "<div>\n",
       "<style scoped>\n",
       "    .dataframe tbody tr th:only-of-type {\n",
       "        vertical-align: middle;\n",
       "    }\n",
       "\n",
       "    .dataframe tbody tr th {\n",
       "        vertical-align: top;\n",
       "    }\n",
       "\n",
       "    .dataframe thead th {\n",
       "        text-align: right;\n",
       "    }\n",
       "</style>\n",
       "<table border=\"1\" class=\"dataframe\">\n",
       "  <thead>\n",
       "    <tr style=\"text-align: right;\">\n",
       "      <th></th>\n",
       "      <th>중간</th>\n",
       "      <th>기말</th>\n",
       "    </tr>\n",
       "    <tr>\n",
       "      <th>학번</th>\n",
       "      <th></th>\n",
       "      <th></th>\n",
       "    </tr>\n",
       "  </thead>\n",
       "  <tbody>\n",
       "    <tr>\n",
       "      <th>S01</th>\n",
       "      <td>90</td>\n",
       "      <td>95</td>\n",
       "    </tr>\n",
       "    <tr>\n",
       "      <th>S02</th>\n",
       "      <td>82</td>\n",
       "      <td>83</td>\n",
       "    </tr>\n",
       "    <tr>\n",
       "      <th>S03</th>\n",
       "      <td>80</td>\n",
       "      <td>78</td>\n",
       "    </tr>\n",
       "    <tr>\n",
       "      <th>S04</th>\n",
       "      <td>78</td>\n",
       "      <td>75</td>\n",
       "    </tr>\n",
       "    <tr>\n",
       "      <th>S05</th>\n",
       "      <td>93</td>\n",
       "      <td>91</td>\n",
       "    </tr>\n",
       "    <tr>\n",
       "      <th>S06</th>\n",
       "      <td>71</td>\n",
       "      <td>75</td>\n",
       "    </tr>\n",
       "    <tr>\n",
       "      <th>S07</th>\n",
       "      <td>60</td>\n",
       "      <td>80</td>\n",
       "    </tr>\n",
       "    <tr>\n",
       "      <th>S08</th>\n",
       "      <td>72</td>\n",
       "      <td>65</td>\n",
       "    </tr>\n",
       "    <tr>\n",
       "      <th>S09</th>\n",
       "      <td>65</td>\n",
       "      <td>65</td>\n",
       "    </tr>\n",
       "    <tr>\n",
       "      <th>S10</th>\n",
       "      <td>85</td>\n",
       "      <td>78</td>\n",
       "    </tr>\n",
       "  </tbody>\n",
       "</table>\n",
       "</div>"
      ],
      "text/plain": [
       "     중간  기말\n",
       "학번         \n",
       "S01  90  95\n",
       "S02  82  83\n",
       "S03  80  78\n",
       "S04  78  75\n",
       "S05  93  91\n",
       "S06  71  75\n",
       "S07  60  80\n",
       "S08  72  65\n",
       "S09  65  65\n",
       "S10  85  78"
      ]
     },
     "execution_count": 64,
     "metadata": {},
     "output_type": "execute_result"
    }
   ],
   "source": [
    "df1[['중간','기말']]"
   ]
  },
  {
   "cell_type": "code",
   "execution_count": 66,
   "metadata": {},
   "outputs": [
    {
     "data": {
      "text/html": [
       "<div>\n",
       "<style scoped>\n",
       "    .dataframe tbody tr th:only-of-type {\n",
       "        vertical-align: middle;\n",
       "    }\n",
       "\n",
       "    .dataframe tbody tr th {\n",
       "        vertical-align: top;\n",
       "    }\n",
       "\n",
       "    .dataframe thead th {\n",
       "        text-align: right;\n",
       "    }\n",
       "</style>\n",
       "<table border=\"1\" class=\"dataframe\">\n",
       "  <thead>\n",
       "    <tr style=\"text-align: right;\">\n",
       "      <th></th>\n",
       "      <th>학번</th>\n",
       "      <th>중간</th>\n",
       "      <th>기말</th>\n",
       "      <th>리포트</th>\n",
       "      <th>퀴즈</th>\n",
       "    </tr>\n",
       "  </thead>\n",
       "  <tbody>\n",
       "    <tr>\n",
       "      <th>0</th>\n",
       "      <td>S01</td>\n",
       "      <td>90</td>\n",
       "      <td>95</td>\n",
       "      <td>20</td>\n",
       "      <td>20</td>\n",
       "    </tr>\n",
       "    <tr>\n",
       "      <th>1</th>\n",
       "      <td>S02</td>\n",
       "      <td>82</td>\n",
       "      <td>83</td>\n",
       "      <td>18</td>\n",
       "      <td>18</td>\n",
       "    </tr>\n",
       "    <tr>\n",
       "      <th>2</th>\n",
       "      <td>S03</td>\n",
       "      <td>80</td>\n",
       "      <td>78</td>\n",
       "      <td>18</td>\n",
       "      <td>18</td>\n",
       "    </tr>\n",
       "    <tr>\n",
       "      <th>3</th>\n",
       "      <td>S04</td>\n",
       "      <td>78</td>\n",
       "      <td>75</td>\n",
       "      <td>10</td>\n",
       "      <td>10</td>\n",
       "    </tr>\n",
       "    <tr>\n",
       "      <th>4</th>\n",
       "      <td>S05</td>\n",
       "      <td>93</td>\n",
       "      <td>91</td>\n",
       "      <td>12</td>\n",
       "      <td>12</td>\n",
       "    </tr>\n",
       "    <tr>\n",
       "      <th>5</th>\n",
       "      <td>S06</td>\n",
       "      <td>71</td>\n",
       "      <td>75</td>\n",
       "      <td>16</td>\n",
       "      <td>16</td>\n",
       "    </tr>\n",
       "    <tr>\n",
       "      <th>6</th>\n",
       "      <td>S07</td>\n",
       "      <td>60</td>\n",
       "      <td>80</td>\n",
       "      <td>18</td>\n",
       "      <td>18</td>\n",
       "    </tr>\n",
       "    <tr>\n",
       "      <th>7</th>\n",
       "      <td>S08</td>\n",
       "      <td>72</td>\n",
       "      <td>65</td>\n",
       "      <td>14</td>\n",
       "      <td>14</td>\n",
       "    </tr>\n",
       "    <tr>\n",
       "      <th>8</th>\n",
       "      <td>S09</td>\n",
       "      <td>65</td>\n",
       "      <td>65</td>\n",
       "      <td>14</td>\n",
       "      <td>14</td>\n",
       "    </tr>\n",
       "    <tr>\n",
       "      <th>9</th>\n",
       "      <td>S10</td>\n",
       "      <td>85</td>\n",
       "      <td>78</td>\n",
       "      <td>10</td>\n",
       "      <td>10</td>\n",
       "    </tr>\n",
       "  </tbody>\n",
       "</table>\n",
       "</div>"
      ],
      "text/plain": [
       "    학번  중간  기말  리포트  퀴즈\n",
       "0  S01  90  95   20  20\n",
       "1  S02  82  83   18  18\n",
       "2  S03  80  78   18  18\n",
       "3  S04  78  75   10  10\n",
       "4  S05  93  91   12  12\n",
       "5  S06  71  75   16  16\n",
       "6  S07  60  80   18  18\n",
       "7  S08  72  65   14  14\n",
       "8  S09  65  65   14  14\n",
       "9  S10  85  78   10  10"
      ]
     },
     "execution_count": 66,
     "metadata": {},
     "output_type": "execute_result"
    }
   ],
   "source": [
    "import pandas as pd\n",
    "df1 = pd.read_csv('PART 02 파이썬 분석\\csv\\df_sample.csv')\n",
    "df1"
   ]
  },
  {
   "cell_type": "code",
   "execution_count": 67,
   "metadata": {},
   "outputs": [
    {
     "data": {
      "text/html": [
       "<div>\n",
       "<style scoped>\n",
       "    .dataframe tbody tr th:only-of-type {\n",
       "        vertical-align: middle;\n",
       "    }\n",
       "\n",
       "    .dataframe tbody tr th {\n",
       "        vertical-align: top;\n",
       "    }\n",
       "\n",
       "    .dataframe thead th {\n",
       "        text-align: right;\n",
       "    }\n",
       "</style>\n",
       "<table border=\"1\" class=\"dataframe\">\n",
       "  <thead>\n",
       "    <tr style=\"text-align: right;\">\n",
       "      <th></th>\n",
       "      <th>학번</th>\n",
       "      <th>중간</th>\n",
       "      <th>기말</th>\n",
       "      <th>리포트</th>\n",
       "      <th>퀴즈</th>\n",
       "    </tr>\n",
       "  </thead>\n",
       "  <tbody>\n",
       "    <tr>\n",
       "      <th>1</th>\n",
       "      <td>S02</td>\n",
       "      <td>82</td>\n",
       "      <td>83</td>\n",
       "      <td>18</td>\n",
       "      <td>18</td>\n",
       "    </tr>\n",
       "    <tr>\n",
       "      <th>2</th>\n",
       "      <td>S03</td>\n",
       "      <td>80</td>\n",
       "      <td>78</td>\n",
       "      <td>18</td>\n",
       "      <td>18</td>\n",
       "    </tr>\n",
       "    <tr>\n",
       "      <th>3</th>\n",
       "      <td>S04</td>\n",
       "      <td>78</td>\n",
       "      <td>75</td>\n",
       "      <td>10</td>\n",
       "      <td>10</td>\n",
       "    </tr>\n",
       "    <tr>\n",
       "      <th>4</th>\n",
       "      <td>S05</td>\n",
       "      <td>93</td>\n",
       "      <td>91</td>\n",
       "      <td>12</td>\n",
       "      <td>12</td>\n",
       "    </tr>\n",
       "    <tr>\n",
       "      <th>5</th>\n",
       "      <td>S06</td>\n",
       "      <td>71</td>\n",
       "      <td>75</td>\n",
       "      <td>16</td>\n",
       "      <td>16</td>\n",
       "    </tr>\n",
       "    <tr>\n",
       "      <th>6</th>\n",
       "      <td>S07</td>\n",
       "      <td>60</td>\n",
       "      <td>80</td>\n",
       "      <td>18</td>\n",
       "      <td>18</td>\n",
       "    </tr>\n",
       "    <tr>\n",
       "      <th>7</th>\n",
       "      <td>S08</td>\n",
       "      <td>72</td>\n",
       "      <td>65</td>\n",
       "      <td>14</td>\n",
       "      <td>14</td>\n",
       "    </tr>\n",
       "    <tr>\n",
       "      <th>8</th>\n",
       "      <td>S09</td>\n",
       "      <td>65</td>\n",
       "      <td>65</td>\n",
       "      <td>14</td>\n",
       "      <td>14</td>\n",
       "    </tr>\n",
       "    <tr>\n",
       "      <th>9</th>\n",
       "      <td>S10</td>\n",
       "      <td>85</td>\n",
       "      <td>78</td>\n",
       "      <td>10</td>\n",
       "      <td>10</td>\n",
       "    </tr>\n",
       "  </tbody>\n",
       "</table>\n",
       "</div>"
      ],
      "text/plain": [
       "    학번  중간  기말  리포트  퀴즈\n",
       "1  S02  82  83   18  18\n",
       "2  S03  80  78   18  18\n",
       "3  S04  78  75   10  10\n",
       "4  S05  93  91   12  12\n",
       "5  S06  71  75   16  16\n",
       "6  S07  60  80   18  18\n",
       "7  S08  72  65   14  14\n",
       "8  S09  65  65   14  14\n",
       "9  S10  85  78   10  10"
      ]
     },
     "execution_count": 67,
     "metadata": {},
     "output_type": "execute_result"
    }
   ],
   "source": [
    "df2=df1.drop(0)\n",
    "df2"
   ]
  },
  {
   "cell_type": "code",
   "execution_count": 69,
   "metadata": {},
   "outputs": [
    {
     "data": {
      "text/html": [
       "<div>\n",
       "<style scoped>\n",
       "    .dataframe tbody tr th:only-of-type {\n",
       "        vertical-align: middle;\n",
       "    }\n",
       "\n",
       "    .dataframe tbody tr th {\n",
       "        vertical-align: top;\n",
       "    }\n",
       "\n",
       "    .dataframe thead th {\n",
       "        text-align: right;\n",
       "    }\n",
       "</style>\n",
       "<table border=\"1\" class=\"dataframe\">\n",
       "  <thead>\n",
       "    <tr style=\"text-align: right;\">\n",
       "      <th></th>\n",
       "      <th>학번</th>\n",
       "      <th>중간</th>\n",
       "      <th>기말</th>\n",
       "      <th>리포트</th>\n",
       "    </tr>\n",
       "  </thead>\n",
       "  <tbody>\n",
       "    <tr>\n",
       "      <th>1</th>\n",
       "      <td>S02</td>\n",
       "      <td>82</td>\n",
       "      <td>83</td>\n",
       "      <td>18</td>\n",
       "    </tr>\n",
       "    <tr>\n",
       "      <th>2</th>\n",
       "      <td>S03</td>\n",
       "      <td>80</td>\n",
       "      <td>78</td>\n",
       "      <td>18</td>\n",
       "    </tr>\n",
       "    <tr>\n",
       "      <th>3</th>\n",
       "      <td>S04</td>\n",
       "      <td>78</td>\n",
       "      <td>75</td>\n",
       "      <td>10</td>\n",
       "    </tr>\n",
       "    <tr>\n",
       "      <th>4</th>\n",
       "      <td>S05</td>\n",
       "      <td>93</td>\n",
       "      <td>91</td>\n",
       "      <td>12</td>\n",
       "    </tr>\n",
       "    <tr>\n",
       "      <th>5</th>\n",
       "      <td>S06</td>\n",
       "      <td>71</td>\n",
       "      <td>75</td>\n",
       "      <td>16</td>\n",
       "    </tr>\n",
       "    <tr>\n",
       "      <th>6</th>\n",
       "      <td>S07</td>\n",
       "      <td>60</td>\n",
       "      <td>80</td>\n",
       "      <td>18</td>\n",
       "    </tr>\n",
       "    <tr>\n",
       "      <th>7</th>\n",
       "      <td>S08</td>\n",
       "      <td>72</td>\n",
       "      <td>65</td>\n",
       "      <td>14</td>\n",
       "    </tr>\n",
       "    <tr>\n",
       "      <th>8</th>\n",
       "      <td>S09</td>\n",
       "      <td>65</td>\n",
       "      <td>65</td>\n",
       "      <td>14</td>\n",
       "    </tr>\n",
       "    <tr>\n",
       "      <th>9</th>\n",
       "      <td>S10</td>\n",
       "      <td>85</td>\n",
       "      <td>78</td>\n",
       "      <td>10</td>\n",
       "    </tr>\n",
       "  </tbody>\n",
       "</table>\n",
       "</div>"
      ],
      "text/plain": [
       "    학번  중간  기말  리포트\n",
       "1  S02  82  83   18\n",
       "2  S03  80  78   18\n",
       "3  S04  78  75   10\n",
       "4  S05  93  91   12\n",
       "5  S06  71  75   16\n",
       "6  S07  60  80   18\n",
       "7  S08  72  65   14\n",
       "8  S09  65  65   14\n",
       "9  S10  85  78   10"
      ]
     },
     "execution_count": 69,
     "metadata": {},
     "output_type": "execute_result"
    }
   ],
   "source": [
    "df3=df2.drop('퀴즈',axis=1)\n",
    "df3"
   ]
  },
  {
   "cell_type": "code",
   "execution_count": 1,
   "metadata": {},
   "outputs": [
    {
     "data": {
      "text/html": [
       "<div>\n",
       "<style scoped>\n",
       "    .dataframe tbody tr th:only-of-type {\n",
       "        vertical-align: middle;\n",
       "    }\n",
       "\n",
       "    .dataframe tbody tr th {\n",
       "        vertical-align: top;\n",
       "    }\n",
       "\n",
       "    .dataframe thead th {\n",
       "        text-align: right;\n",
       "    }\n",
       "</style>\n",
       "<table border=\"1\" class=\"dataframe\">\n",
       "  <thead>\n",
       "    <tr style=\"text-align: right;\">\n",
       "      <th></th>\n",
       "      <th>중간</th>\n",
       "      <th>기말</th>\n",
       "      <th>리포트</th>\n",
       "      <th>퀴즈</th>\n",
       "    </tr>\n",
       "    <tr>\n",
       "      <th>학번</th>\n",
       "      <th></th>\n",
       "      <th></th>\n",
       "      <th></th>\n",
       "      <th></th>\n",
       "    </tr>\n",
       "  </thead>\n",
       "  <tbody>\n",
       "    <tr>\n",
       "      <th>S10</th>\n",
       "      <td>85</td>\n",
       "      <td>78</td>\n",
       "      <td>10</td>\n",
       "      <td>10</td>\n",
       "    </tr>\n",
       "    <tr>\n",
       "      <th>S09</th>\n",
       "      <td>65</td>\n",
       "      <td>65</td>\n",
       "      <td>14</td>\n",
       "      <td>14</td>\n",
       "    </tr>\n",
       "    <tr>\n",
       "      <th>S08</th>\n",
       "      <td>72</td>\n",
       "      <td>65</td>\n",
       "      <td>14</td>\n",
       "      <td>14</td>\n",
       "    </tr>\n",
       "    <tr>\n",
       "      <th>S07</th>\n",
       "      <td>60</td>\n",
       "      <td>80</td>\n",
       "      <td>18</td>\n",
       "      <td>18</td>\n",
       "    </tr>\n",
       "    <tr>\n",
       "      <th>S06</th>\n",
       "      <td>71</td>\n",
       "      <td>75</td>\n",
       "      <td>16</td>\n",
       "      <td>16</td>\n",
       "    </tr>\n",
       "    <tr>\n",
       "      <th>S05</th>\n",
       "      <td>93</td>\n",
       "      <td>91</td>\n",
       "      <td>12</td>\n",
       "      <td>12</td>\n",
       "    </tr>\n",
       "    <tr>\n",
       "      <th>S04</th>\n",
       "      <td>78</td>\n",
       "      <td>75</td>\n",
       "      <td>10</td>\n",
       "      <td>10</td>\n",
       "    </tr>\n",
       "    <tr>\n",
       "      <th>S03</th>\n",
       "      <td>80</td>\n",
       "      <td>78</td>\n",
       "      <td>18</td>\n",
       "      <td>18</td>\n",
       "    </tr>\n",
       "    <tr>\n",
       "      <th>S02</th>\n",
       "      <td>82</td>\n",
       "      <td>83</td>\n",
       "      <td>18</td>\n",
       "      <td>18</td>\n",
       "    </tr>\n",
       "    <tr>\n",
       "      <th>S01</th>\n",
       "      <td>90</td>\n",
       "      <td>95</td>\n",
       "      <td>20</td>\n",
       "      <td>20</td>\n",
       "    </tr>\n",
       "  </tbody>\n",
       "</table>\n",
       "</div>"
      ],
      "text/plain": [
       "     중간  기말  리포트  퀴즈\n",
       "학번                  \n",
       "S10  85  78   10  10\n",
       "S09  65  65   14  14\n",
       "S08  72  65   14  14\n",
       "S07  60  80   18  18\n",
       "S06  71  75   16  16\n",
       "S05  93  91   12  12\n",
       "S04  78  75   10  10\n",
       "S03  80  78   18  18\n",
       "S02  82  83   18  18\n",
       "S01  90  95   20  20"
      ]
     },
     "execution_count": 1,
     "metadata": {},
     "output_type": "execute_result"
    }
   ],
   "source": [
    "import pandas as pd\n",
    "df1 = pd.read_csv('PART 02 파이썬 분석\\csv\\df_sample.csv')\n",
    "df1.set_index('학번',inplace=True)\n",
    "df2=df1.sort_index(ascending=False)\n",
    "df2 "
   ]
  },
  {
   "cell_type": "code",
   "execution_count": 3,
   "metadata": {},
   "outputs": [
    {
     "data": {
      "text/html": [
       "<div>\n",
       "<style scoped>\n",
       "    .dataframe tbody tr th:only-of-type {\n",
       "        vertical-align: middle;\n",
       "    }\n",
       "\n",
       "    .dataframe tbody tr th {\n",
       "        vertical-align: top;\n",
       "    }\n",
       "\n",
       "    .dataframe thead th {\n",
       "        text-align: right;\n",
       "    }\n",
       "</style>\n",
       "<table border=\"1\" class=\"dataframe\">\n",
       "  <thead>\n",
       "    <tr style=\"text-align: right;\">\n",
       "      <th></th>\n",
       "      <th>중간</th>\n",
       "      <th>기말</th>\n",
       "      <th>리포트</th>\n",
       "      <th>퀴즈</th>\n",
       "    </tr>\n",
       "    <tr>\n",
       "      <th>학번</th>\n",
       "      <th></th>\n",
       "      <th></th>\n",
       "      <th></th>\n",
       "      <th></th>\n",
       "    </tr>\n",
       "  </thead>\n",
       "  <tbody>\n",
       "    <tr>\n",
       "      <th>S08</th>\n",
       "      <td>72</td>\n",
       "      <td>65</td>\n",
       "      <td>14</td>\n",
       "      <td>14</td>\n",
       "    </tr>\n",
       "    <tr>\n",
       "      <th>S09</th>\n",
       "      <td>65</td>\n",
       "      <td>65</td>\n",
       "      <td>14</td>\n",
       "      <td>14</td>\n",
       "    </tr>\n",
       "    <tr>\n",
       "      <th>S04</th>\n",
       "      <td>78</td>\n",
       "      <td>75</td>\n",
       "      <td>10</td>\n",
       "      <td>10</td>\n",
       "    </tr>\n",
       "    <tr>\n",
       "      <th>S06</th>\n",
       "      <td>71</td>\n",
       "      <td>75</td>\n",
       "      <td>16</td>\n",
       "      <td>16</td>\n",
       "    </tr>\n",
       "    <tr>\n",
       "      <th>S03</th>\n",
       "      <td>80</td>\n",
       "      <td>78</td>\n",
       "      <td>18</td>\n",
       "      <td>18</td>\n",
       "    </tr>\n",
       "    <tr>\n",
       "      <th>S10</th>\n",
       "      <td>85</td>\n",
       "      <td>78</td>\n",
       "      <td>10</td>\n",
       "      <td>10</td>\n",
       "    </tr>\n",
       "    <tr>\n",
       "      <th>S07</th>\n",
       "      <td>60</td>\n",
       "      <td>80</td>\n",
       "      <td>18</td>\n",
       "      <td>18</td>\n",
       "    </tr>\n",
       "    <tr>\n",
       "      <th>S02</th>\n",
       "      <td>82</td>\n",
       "      <td>83</td>\n",
       "      <td>18</td>\n",
       "      <td>18</td>\n",
       "    </tr>\n",
       "    <tr>\n",
       "      <th>S05</th>\n",
       "      <td>93</td>\n",
       "      <td>91</td>\n",
       "      <td>12</td>\n",
       "      <td>12</td>\n",
       "    </tr>\n",
       "    <tr>\n",
       "      <th>S01</th>\n",
       "      <td>90</td>\n",
       "      <td>95</td>\n",
       "      <td>20</td>\n",
       "      <td>20</td>\n",
       "    </tr>\n",
       "  </tbody>\n",
       "</table>\n",
       "</div>"
      ],
      "text/plain": [
       "     중간  기말  리포트  퀴즈\n",
       "학번                  \n",
       "S08  72  65   14  14\n",
       "S09  65  65   14  14\n",
       "S04  78  75   10  10\n",
       "S06  71  75   16  16\n",
       "S03  80  78   18  18\n",
       "S10  85  78   10  10\n",
       "S07  60  80   18  18\n",
       "S02  82  83   18  18\n",
       "S05  93  91   12  12\n",
       "S01  90  95   20  20"
      ]
     },
     "execution_count": 3,
     "metadata": {},
     "output_type": "execute_result"
    }
   ],
   "source": [
    "df2=df1.sort_values(by='기말',ascending=True)\n",
    "df2"
   ]
  },
  {
   "cell_type": "code",
   "execution_count": 4,
   "metadata": {},
   "outputs": [],
   "source": [
    "df1['합계']=df1['중간']+df1['기말']"
   ]
  },
  {
   "cell_type": "code",
   "execution_count": 5,
   "metadata": {},
   "outputs": [
    {
     "data": {
      "text/html": [
       "<div>\n",
       "<style scoped>\n",
       "    .dataframe tbody tr th:only-of-type {\n",
       "        vertical-align: middle;\n",
       "    }\n",
       "\n",
       "    .dataframe tbody tr th {\n",
       "        vertical-align: top;\n",
       "    }\n",
       "\n",
       "    .dataframe thead th {\n",
       "        text-align: right;\n",
       "    }\n",
       "</style>\n",
       "<table border=\"1\" class=\"dataframe\">\n",
       "  <thead>\n",
       "    <tr style=\"text-align: right;\">\n",
       "      <th></th>\n",
       "      <th>중간</th>\n",
       "      <th>기말</th>\n",
       "      <th>리포트</th>\n",
       "      <th>퀴즈</th>\n",
       "      <th>합계</th>\n",
       "    </tr>\n",
       "    <tr>\n",
       "      <th>학번</th>\n",
       "      <th></th>\n",
       "      <th></th>\n",
       "      <th></th>\n",
       "      <th></th>\n",
       "      <th></th>\n",
       "    </tr>\n",
       "  </thead>\n",
       "  <tbody>\n",
       "    <tr>\n",
       "      <th>S01</th>\n",
       "      <td>90</td>\n",
       "      <td>95</td>\n",
       "      <td>20</td>\n",
       "      <td>20</td>\n",
       "      <td>185</td>\n",
       "    </tr>\n",
       "    <tr>\n",
       "      <th>S02</th>\n",
       "      <td>82</td>\n",
       "      <td>83</td>\n",
       "      <td>18</td>\n",
       "      <td>18</td>\n",
       "      <td>165</td>\n",
       "    </tr>\n",
       "    <tr>\n",
       "      <th>S03</th>\n",
       "      <td>80</td>\n",
       "      <td>78</td>\n",
       "      <td>18</td>\n",
       "      <td>18</td>\n",
       "      <td>158</td>\n",
       "    </tr>\n",
       "    <tr>\n",
       "      <th>S04</th>\n",
       "      <td>78</td>\n",
       "      <td>75</td>\n",
       "      <td>10</td>\n",
       "      <td>10</td>\n",
       "      <td>153</td>\n",
       "    </tr>\n",
       "    <tr>\n",
       "      <th>S05</th>\n",
       "      <td>93</td>\n",
       "      <td>91</td>\n",
       "      <td>12</td>\n",
       "      <td>12</td>\n",
       "      <td>184</td>\n",
       "    </tr>\n",
       "    <tr>\n",
       "      <th>S06</th>\n",
       "      <td>71</td>\n",
       "      <td>75</td>\n",
       "      <td>16</td>\n",
       "      <td>16</td>\n",
       "      <td>146</td>\n",
       "    </tr>\n",
       "    <tr>\n",
       "      <th>S07</th>\n",
       "      <td>60</td>\n",
       "      <td>80</td>\n",
       "      <td>18</td>\n",
       "      <td>18</td>\n",
       "      <td>140</td>\n",
       "    </tr>\n",
       "    <tr>\n",
       "      <th>S08</th>\n",
       "      <td>72</td>\n",
       "      <td>65</td>\n",
       "      <td>14</td>\n",
       "      <td>14</td>\n",
       "      <td>137</td>\n",
       "    </tr>\n",
       "    <tr>\n",
       "      <th>S09</th>\n",
       "      <td>65</td>\n",
       "      <td>65</td>\n",
       "      <td>14</td>\n",
       "      <td>14</td>\n",
       "      <td>130</td>\n",
       "    </tr>\n",
       "    <tr>\n",
       "      <th>S10</th>\n",
       "      <td>85</td>\n",
       "      <td>78</td>\n",
       "      <td>10</td>\n",
       "      <td>10</td>\n",
       "      <td>163</td>\n",
       "    </tr>\n",
       "  </tbody>\n",
       "</table>\n",
       "</div>"
      ],
      "text/plain": [
       "     중간  기말  리포트  퀴즈   합계\n",
       "학번                       \n",
       "S01  90  95   20  20  185\n",
       "S02  82  83   18  18  165\n",
       "S03  80  78   18  18  158\n",
       "S04  78  75   10  10  153\n",
       "S05  93  91   12  12  184\n",
       "S06  71  75   16  16  146\n",
       "S07  60  80   18  18  140\n",
       "S08  72  65   14  14  137\n",
       "S09  65  65   14  14  130\n",
       "S10  85  78   10  10  163"
      ]
     },
     "execution_count": 5,
     "metadata": {},
     "output_type": "execute_result"
    }
   ],
   "source": [
    "df1"
   ]
  },
  {
   "cell_type": "code",
   "execution_count": 7,
   "metadata": {},
   "outputs": [],
   "source": [
    "x=[\"1반\",\"1반\",\"1반\",\"2반\",\"2반\",\"2반\",\"3반\",\"3반\",\"3반\",\"3반\"]"
   ]
  },
  {
   "cell_type": "code",
   "execution_count": 9,
   "metadata": {},
   "outputs": [
    {
     "data": {
      "text/html": [
       "<div>\n",
       "<style scoped>\n",
       "    .dataframe tbody tr th:only-of-type {\n",
       "        vertical-align: middle;\n",
       "    }\n",
       "\n",
       "    .dataframe tbody tr th {\n",
       "        vertical-align: top;\n",
       "    }\n",
       "\n",
       "    .dataframe thead th {\n",
       "        text-align: right;\n",
       "    }\n",
       "</style>\n",
       "<table border=\"1\" class=\"dataframe\">\n",
       "  <thead>\n",
       "    <tr style=\"text-align: right;\">\n",
       "      <th></th>\n",
       "      <th>중간</th>\n",
       "      <th>기말</th>\n",
       "      <th>리포트</th>\n",
       "      <th>퀴즈</th>\n",
       "      <th>합계</th>\n",
       "    </tr>\n",
       "    <tr>\n",
       "      <th>학번</th>\n",
       "      <th></th>\n",
       "      <th></th>\n",
       "      <th></th>\n",
       "      <th></th>\n",
       "      <th></th>\n",
       "    </tr>\n",
       "  </thead>\n",
       "  <tbody>\n",
       "    <tr>\n",
       "      <th>S01</th>\n",
       "      <td>90</td>\n",
       "      <td>95</td>\n",
       "      <td>20</td>\n",
       "      <td>20</td>\n",
       "      <td>185</td>\n",
       "    </tr>\n",
       "    <tr>\n",
       "      <th>S02</th>\n",
       "      <td>82</td>\n",
       "      <td>83</td>\n",
       "      <td>18</td>\n",
       "      <td>18</td>\n",
       "      <td>165</td>\n",
       "    </tr>\n",
       "    <tr>\n",
       "      <th>S03</th>\n",
       "      <td>80</td>\n",
       "      <td>78</td>\n",
       "      <td>18</td>\n",
       "      <td>18</td>\n",
       "      <td>158</td>\n",
       "    </tr>\n",
       "    <tr>\n",
       "      <th>S04</th>\n",
       "      <td>78</td>\n",
       "      <td>75</td>\n",
       "      <td>10</td>\n",
       "      <td>10</td>\n",
       "      <td>153</td>\n",
       "    </tr>\n",
       "    <tr>\n",
       "      <th>S05</th>\n",
       "      <td>93</td>\n",
       "      <td>91</td>\n",
       "      <td>12</td>\n",
       "      <td>12</td>\n",
       "      <td>184</td>\n",
       "    </tr>\n",
       "    <tr>\n",
       "      <th>S06</th>\n",
       "      <td>71</td>\n",
       "      <td>75</td>\n",
       "      <td>16</td>\n",
       "      <td>16</td>\n",
       "      <td>146</td>\n",
       "    </tr>\n",
       "    <tr>\n",
       "      <th>S07</th>\n",
       "      <td>60</td>\n",
       "      <td>80</td>\n",
       "      <td>18</td>\n",
       "      <td>18</td>\n",
       "      <td>140</td>\n",
       "    </tr>\n",
       "    <tr>\n",
       "      <th>S08</th>\n",
       "      <td>72</td>\n",
       "      <td>65</td>\n",
       "      <td>14</td>\n",
       "      <td>14</td>\n",
       "      <td>137</td>\n",
       "    </tr>\n",
       "    <tr>\n",
       "      <th>S09</th>\n",
       "      <td>65</td>\n",
       "      <td>65</td>\n",
       "      <td>14</td>\n",
       "      <td>14</td>\n",
       "      <td>130</td>\n",
       "    </tr>\n",
       "    <tr>\n",
       "      <th>S10</th>\n",
       "      <td>85</td>\n",
       "      <td>78</td>\n",
       "      <td>10</td>\n",
       "      <td>10</td>\n",
       "      <td>163</td>\n",
       "    </tr>\n",
       "  </tbody>\n",
       "</table>\n",
       "</div>"
      ],
      "text/plain": [
       "     중간  기말  리포트  퀴즈   합계\n",
       "학번                       \n",
       "S01  90  95   20  20  185\n",
       "S02  82  83   18  18  165\n",
       "S03  80  78   18  18  158\n",
       "S04  78  75   10  10  153\n",
       "S05  93  91   12  12  184\n",
       "S06  71  75   16  16  146\n",
       "S07  60  80   18  18  140\n",
       "S08  72  65   14  14  137\n",
       "S09  65  65   14  14  130\n",
       "S10  85  78   10  10  163"
      ]
     },
     "execution_count": 9,
     "metadata": {},
     "output_type": "execute_result"
    }
   ],
   "source": [
    "df1"
   ]
  },
  {
   "cell_type": "code",
   "execution_count": 11,
   "metadata": {},
   "outputs": [
    {
     "ename": "IndexError",
     "evalue": "index 6 is out of bounds for axis 0 with size 5",
     "output_type": "error",
     "traceback": [
      "\u001b[1;31m---------------------------------------------------------------------------\u001b[0m",
      "\u001b[1;31mIndexError\u001b[0m                                Traceback (most recent call last)",
      "Cell \u001b[1;32mIn[11], line 1\u001b[0m\n\u001b[1;32m----> 1\u001b[0m df1[\u001b[38;5;124m'\u001b[39m\u001b[38;5;124mcls\u001b[39m\u001b[38;5;124m'\u001b[39m]\u001b[38;5;241m=\u001b[39m\u001b[43mdf1\u001b[49m\u001b[38;5;241;43m.\u001b[39;49m\u001b[43minsert\u001b[49m\u001b[43m(\u001b[49m\u001b[38;5;241;43m6\u001b[39;49m\u001b[43m,\u001b[49m\u001b[38;5;124;43m\"\u001b[39;49m\u001b[38;5;124;43mcls\u001b[39;49m\u001b[38;5;124;43m\"\u001b[39;49m\u001b[43m,\u001b[49m\u001b[43mx\u001b[49m\u001b[43m,\u001b[49m\u001b[38;5;28;43;01mTrue\u001b[39;49;00m\u001b[43m)\u001b[49m\n\u001b[0;32m      2\u001b[0m df1\u001b[38;5;241m.\u001b[39massign(\u001b[38;5;28mcls\u001b[39m\u001b[38;5;241m=\u001b[39mx)\n",
      "File \u001b[1;32mc:\\Users\\user\\AppData\\Local\\Programs\\Python\\Python39\\lib\\site-packages\\pandas\\core\\frame.py:5172\u001b[0m, in \u001b[0;36mDataFrame.insert\u001b[1;34m(self, loc, column, value, allow_duplicates)\u001b[0m\n\u001b[0;32m   5169\u001b[0m     value \u001b[38;5;241m=\u001b[39m value\u001b[38;5;241m.\u001b[39miloc[:, \u001b[38;5;241m0\u001b[39m]\n\u001b[0;32m   5171\u001b[0m value, refs \u001b[38;5;241m=\u001b[39m \u001b[38;5;28mself\u001b[39m\u001b[38;5;241m.\u001b[39m_sanitize_column(value)\n\u001b[1;32m-> 5172\u001b[0m \u001b[38;5;28;43mself\u001b[39;49m\u001b[38;5;241;43m.\u001b[39;49m\u001b[43m_mgr\u001b[49m\u001b[38;5;241;43m.\u001b[39;49m\u001b[43minsert\u001b[49m\u001b[43m(\u001b[49m\u001b[43mloc\u001b[49m\u001b[43m,\u001b[49m\u001b[43m \u001b[49m\u001b[43mcolumn\u001b[49m\u001b[43m,\u001b[49m\u001b[43m \u001b[49m\u001b[43mvalue\u001b[49m\u001b[43m,\u001b[49m\u001b[43m \u001b[49m\u001b[43mrefs\u001b[49m\u001b[38;5;241;43m=\u001b[39;49m\u001b[43mrefs\u001b[49m\u001b[43m)\u001b[49m\n",
      "File \u001b[1;32mc:\\Users\\user\\AppData\\Local\\Programs\\Python\\Python39\\lib\\site-packages\\pandas\\core\\internals\\managers.py:1365\u001b[0m, in \u001b[0;36mBlockManager.insert\u001b[1;34m(self, loc, item, value, refs)\u001b[0m\n\u001b[0;32m   1358\u001b[0m \u001b[38;5;28;01mwith\u001b[39;00m warnings\u001b[38;5;241m.\u001b[39mcatch_warnings():\n\u001b[0;32m   1359\u001b[0m     \u001b[38;5;66;03m# TODO: re-issue this with setitem-specific message?\u001b[39;00m\n\u001b[0;32m   1360\u001b[0m     warnings\u001b[38;5;241m.\u001b[39mfilterwarnings(\n\u001b[0;32m   1361\u001b[0m         \u001b[38;5;124m\"\u001b[39m\u001b[38;5;124mignore\u001b[39m\u001b[38;5;124m\"\u001b[39m,\n\u001b[0;32m   1362\u001b[0m         \u001b[38;5;124m\"\u001b[39m\u001b[38;5;124mThe behavior of Index.insert with object-dtype is deprecated\u001b[39m\u001b[38;5;124m\"\u001b[39m,\n\u001b[0;32m   1363\u001b[0m         category\u001b[38;5;241m=\u001b[39m\u001b[38;5;167;01mFutureWarning\u001b[39;00m,\n\u001b[0;32m   1364\u001b[0m     )\n\u001b[1;32m-> 1365\u001b[0m     new_axis \u001b[38;5;241m=\u001b[39m \u001b[38;5;28;43mself\u001b[39;49m\u001b[38;5;241;43m.\u001b[39;49m\u001b[43mitems\u001b[49m\u001b[38;5;241;43m.\u001b[39;49m\u001b[43minsert\u001b[49m\u001b[43m(\u001b[49m\u001b[43mloc\u001b[49m\u001b[43m,\u001b[49m\u001b[43m \u001b[49m\u001b[43mitem\u001b[49m\u001b[43m)\u001b[49m\n\u001b[0;32m   1367\u001b[0m \u001b[38;5;28;01mif\u001b[39;00m value\u001b[38;5;241m.\u001b[39mndim \u001b[38;5;241m==\u001b[39m \u001b[38;5;241m2\u001b[39m:\n\u001b[0;32m   1368\u001b[0m     value \u001b[38;5;241m=\u001b[39m value\u001b[38;5;241m.\u001b[39mT\n",
      "File \u001b[1;32mc:\\Users\\user\\AppData\\Local\\Programs\\Python\\Python39\\lib\\site-packages\\pandas\\core\\indexes\\base.py:7003\u001b[0m, in \u001b[0;36mIndex.insert\u001b[1;34m(self, loc, item)\u001b[0m\n\u001b[0;32m   6996\u001b[0m \u001b[38;5;28;01mif\u001b[39;00m arr\u001b[38;5;241m.\u001b[39mdtype \u001b[38;5;241m!=\u001b[39m \u001b[38;5;28mobject\u001b[39m \u001b[38;5;129;01mor\u001b[39;00m \u001b[38;5;129;01mnot\u001b[39;00m \u001b[38;5;28misinstance\u001b[39m(\n\u001b[0;32m   6997\u001b[0m     item, (\u001b[38;5;28mtuple\u001b[39m, np\u001b[38;5;241m.\u001b[39mdatetime64, np\u001b[38;5;241m.\u001b[39mtimedelta64)\n\u001b[0;32m   6998\u001b[0m ):\n\u001b[0;32m   6999\u001b[0m     \u001b[38;5;66;03m# with object-dtype we need to worry about numpy incorrectly casting\u001b[39;00m\n\u001b[0;32m   7000\u001b[0m     \u001b[38;5;66;03m# dt64/td64 to integer, also about treating tuples as sequences\u001b[39;00m\n\u001b[0;32m   7001\u001b[0m     \u001b[38;5;66;03m# special-casing dt64/td64 https://github.com/numpy/numpy/issues/12550\u001b[39;00m\n\u001b[0;32m   7002\u001b[0m     casted \u001b[38;5;241m=\u001b[39m arr\u001b[38;5;241m.\u001b[39mdtype\u001b[38;5;241m.\u001b[39mtype(item)\n\u001b[1;32m-> 7003\u001b[0m     new_values \u001b[38;5;241m=\u001b[39m \u001b[43mnp\u001b[49m\u001b[38;5;241;43m.\u001b[39;49m\u001b[43minsert\u001b[49m\u001b[43m(\u001b[49m\u001b[43marr\u001b[49m\u001b[43m,\u001b[49m\u001b[43m \u001b[49m\u001b[43mloc\u001b[49m\u001b[43m,\u001b[49m\u001b[43m \u001b[49m\u001b[43mcasted\u001b[49m\u001b[43m)\u001b[49m\n\u001b[0;32m   7005\u001b[0m \u001b[38;5;28;01melse\u001b[39;00m:\n\u001b[0;32m   7006\u001b[0m     \u001b[38;5;66;03m# error: No overload variant of \"insert\" matches argument types\u001b[39;00m\n\u001b[0;32m   7007\u001b[0m     \u001b[38;5;66;03m# \"ndarray[Any, Any]\", \"int\", \"None\"\u001b[39;00m\n\u001b[0;32m   7008\u001b[0m     new_values \u001b[38;5;241m=\u001b[39m np\u001b[38;5;241m.\u001b[39minsert(arr, loc, \u001b[38;5;28;01mNone\u001b[39;00m)  \u001b[38;5;66;03m# type: ignore[call-overload]\u001b[39;00m\n",
      "File \u001b[1;32mc:\\Users\\user\\AppData\\Local\\Programs\\Python\\Python39\\lib\\site-packages\\numpy\\lib\\function_base.py:5506\u001b[0m, in \u001b[0;36minsert\u001b[1;34m(arr, obj, values, axis)\u001b[0m\n\u001b[0;32m   5504\u001b[0m index \u001b[38;5;241m=\u001b[39m indices\u001b[38;5;241m.\u001b[39mitem()\n\u001b[0;32m   5505\u001b[0m \u001b[38;5;28;01mif\u001b[39;00m index \u001b[38;5;241m<\u001b[39m \u001b[38;5;241m-\u001b[39mN \u001b[38;5;129;01mor\u001b[39;00m index \u001b[38;5;241m>\u001b[39m N:\n\u001b[1;32m-> 5506\u001b[0m     \u001b[38;5;28;01mraise\u001b[39;00m \u001b[38;5;167;01mIndexError\u001b[39;00m(\u001b[38;5;124mf\u001b[39m\u001b[38;5;124m\"\u001b[39m\u001b[38;5;124mindex \u001b[39m\u001b[38;5;132;01m{\u001b[39;00mobj\u001b[38;5;132;01m}\u001b[39;00m\u001b[38;5;124m is out of bounds for axis \u001b[39m\u001b[38;5;132;01m{\u001b[39;00maxis\u001b[38;5;132;01m}\u001b[39;00m\u001b[38;5;124m \u001b[39m\u001b[38;5;124m\"\u001b[39m\n\u001b[0;32m   5507\u001b[0m                      \u001b[38;5;124mf\u001b[39m\u001b[38;5;124m\"\u001b[39m\u001b[38;5;124mwith size \u001b[39m\u001b[38;5;132;01m{\u001b[39;00mN\u001b[38;5;132;01m}\u001b[39;00m\u001b[38;5;124m\"\u001b[39m)\n\u001b[0;32m   5508\u001b[0m \u001b[38;5;28;01mif\u001b[39;00m (index \u001b[38;5;241m<\u001b[39m \u001b[38;5;241m0\u001b[39m):\n\u001b[0;32m   5509\u001b[0m     index \u001b[38;5;241m+\u001b[39m\u001b[38;5;241m=\u001b[39m N\n",
      "\u001b[1;31mIndexError\u001b[0m: index 6 is out of bounds for axis 0 with size 5"
     ]
    }
   ],
   "source": [
    "df1['cls']=df1.insert(6,\"cls\",x,True)\n",
    "df1.assign(cls=x)"
   ]
  },
  {
   "cell_type": "code",
   "execution_count": null,
   "metadata": {},
   "outputs": [],
   "source": []
  }
 ],
 "metadata": {
  "kernelspec": {
   "display_name": "Python 3",
   "language": "python",
   "name": "python3"
  },
  "language_info": {
   "codemirror_mode": {
    "name": "ipython",
    "version": 3
   },
   "file_extension": ".py",
   "mimetype": "text/x-python",
   "name": "python",
   "nbconvert_exporter": "python",
   "pygments_lexer": "ipython3",
   "version": "3.9.13"
  }
 },
 "nbformat": 4,
 "nbformat_minor": 2
}
